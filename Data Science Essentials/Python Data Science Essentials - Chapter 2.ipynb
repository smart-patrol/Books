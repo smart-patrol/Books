{
 "cells": [
  {
   "cell_type": "code",
   "execution_count": null,
   "metadata": {
    "collapsed": true
   },
   "outputs": [],
   "source": [
    "from sklearn import datasets\n",
    "import numpy as np\n",
    "import pandas as pd"
   ]
  },
  {
   "cell_type": "code",
   "execution_count": null,
   "metadata": {
    "collapsed": true
   },
   "outputs": [],
   "source": [
    "iris = datasets.load_iris()"
   ]
  },
  {
   "cell_type": "code",
   "execution_count": null,
   "metadata": {
    "collapsed": false
   },
   "outputs": [],
   "source": [
    "idf = pd.DataFrame(iris.data, columns=['sepal_length', 'sepal_width', 'petal_length', 'petal_width'])"
   ]
  },
  {
   "cell_type": "code",
   "execution_count": null,
   "metadata": {
    "collapsed": false
   },
   "outputs": [],
   "source": [
    "idf['target'] = iris.target"
   ]
  },
  {
   "cell_type": "code",
   "execution_count": null,
   "metadata": {
    "collapsed": false
   },
   "outputs": [],
   "source": [
    "idf.head()"
   ]
  },
  {
   "cell_type": "code",
   "execution_count": null,
   "metadata": {
    "collapsed": true
   },
   "outputs": [],
   "source": [
    "Y = idf['target']"
   ]
  },
  {
   "cell_type": "code",
   "execution_count": null,
   "metadata": {
    "collapsed": true
   },
   "outputs": [],
   "source": [
    "X = idf[['sepal_length', 'sepal_width']]"
   ]
  },
  {
   "cell_type": "code",
   "execution_count": null,
   "metadata": {
    "collapsed": false
   },
   "outputs": [],
   "source": [
    "print X.shape\n",
    "print Y.shape"
   ]
  },
  {
   "cell_type": "code",
   "execution_count": null,
   "metadata": {
    "collapsed": false
   },
   "outputs": [],
   "source": [
    "# ascceomg other data formats\n",
    "blah = pd.DataFrame({'Col1' : range(5), 'Col2' : [1.0]*5, 'Col3' : 1.0, 'Col4' : 'Hello World!'})\n",
    "blah"
   ]
  },
  {
   "cell_type": "code",
   "execution_count": null,
   "metadata": {
    "collapsed": false
   },
   "outputs": [],
   "source": [
    "blah.dtypes"
   ]
  },
  {
   "cell_type": "code",
   "execution_count": null,
   "metadata": {
    "collapsed": true
   },
   "outputs": [],
   "source": [
    "# changing the format\n",
    "blah['Col1'] = blah['Col1'].astype(float)"
   ]
  },
  {
   "cell_type": "code",
   "execution_count": null,
   "metadata": {
    "collapsed": false
   },
   "outputs": [],
   "source": [
    "blah.dtypes"
   ]
  },
  {
   "cell_type": "code",
   "execution_count": null,
   "metadata": {
    "collapsed": false
   },
   "outputs": [],
   "source": [
    "# data preprocssing\n",
    "# mask features to select columns\n",
    "\n",
    "mask_feature = idf['sepal_length'] > 6.0\n",
    "\n",
    "print mask_feature[0:4]"
   ]
  },
  {
   "cell_type": "code",
   "execution_count": null,
   "metadata": {
    "collapsed": false
   },
   "outputs": [],
   "source": [
    "len(idf[mask_feature]), len(idf)"
   ]
  },
  {
   "cell_type": "code",
   "execution_count": null,
   "metadata": {
    "collapsed": true
   },
   "outputs": [],
   "source": [
    "mask_target = idf['target'] == 2"
   ]
  },
  {
   "cell_type": "code",
   "execution_count": null,
   "metadata": {
    "collapsed": false
   },
   "outputs": [],
   "source": [
    "# select on those that are virginac in the data with a mask\n",
    "idf.loc[mask_target, 'target'].head()"
   ]
  },
  {
   "cell_type": "code",
   "execution_count": null,
   "metadata": {
    "collapsed": false
   },
   "outputs": [],
   "source": [
    "# using unique \n",
    "idf.target.unique()"
   ]
  },
  {
   "cell_type": "code",
   "execution_count": null,
   "metadata": {
    "collapsed": false
   },
   "outputs": [],
   "source": [
    "idf.groupby('target').var()"
   ]
  },
  {
   "cell_type": "code",
   "execution_count": null,
   "metadata": {
    "collapsed": false
   },
   "outputs": [],
   "source": [
    "# sorting example\n",
    "idf.sort_index(by = 'sepal_width').head()"
   ]
  },
  {
   "cell_type": "code",
   "execution_count": null,
   "metadata": {
    "collapsed": false
   },
   "outputs": [],
   "source": [
    "# using index to access valuesw\n",
    "\n",
    "print float(idf.ix[104, 2])\n",
    "print float(idf.ix[104, 'petal_length'])"
   ]
  },
  {
   "cell_type": "code",
   "execution_count": null,
   "metadata": {
    "collapsed": false
   },
   "outputs": [],
   "source": [
    "# retriving submatrices\n",
    "idf[['sepal_length', 'sepal_width']][0:2]"
   ]
  },
  {
   "cell_type": "code",
   "execution_count": null,
   "metadata": {
    "collapsed": false
   },
   "outputs": [],
   "source": [
    "# or it can be ran as\n",
    "print idf.loc[range(100,102), ['sepal_length', 'sepal_width']]\n",
    "print idf.ix[range(100, 102), [0,1]]\n",
    "print idf.iloc[range(100,102), [0,1]]"
   ]
  },
  {
   "cell_type": "code",
   "execution_count": null,
   "metadata": {
    "collapsed": false
   },
   "outputs": [],
   "source": [
    "# making dummies in pandas\n",
    "level = ['sunny', 'cloudy', 'snowy', 'rainy', 'foggy']\n",
    "\n",
    "cat_feat = pd.Series(level)\n",
    "mapping = pd.get_dummies(cat_feat)\n",
    "mapping"
   ]
  },
  {
   "cell_type": "code",
   "execution_count": null,
   "metadata": {
    "collapsed": true
   },
   "outputs": [],
   "source": [
    "# the same operation can be done with scikit learn\n",
    "from sklearn.preprocessing import OneHotEncoder\n",
    "from sklearn.preprocessing import LabelEncoder"
   ]
  },
  {
   "cell_type": "code",
   "execution_count": null,
   "metadata": {
    "collapsed": true
   },
   "outputs": [],
   "source": [
    "le = LabelEncoder()\n",
    "ohe = OneHotEncoder()\n",
    "fit_levs = le.fit_transform(level)"
   ]
  },
  {
   "cell_type": "code",
   "execution_count": null,
   "metadata": {
    "collapsed": false
   },
   "outputs": [],
   "source": [
    "ohe.fit([[fit_levs[0]], [fit_levs[1]], [fit_levs[2]], [fit_levs[3]], \n",
    "[fit_levs[4]]])"
   ]
  },
  {
   "cell_type": "code",
   "execution_count": null,
   "metadata": {
    "collapsed": false
   },
   "outputs": [],
   "source": [
    "print ohe.transform([le.transform(['sunny'])]).toarray()\n",
    "print ohe.transform([le.transform(['cloudy'])]).toarray()"
   ]
  },
  {
   "cell_type": "code",
   "execution_count": 29,
   "metadata": {
    "collapsed": false
   },
   "outputs": [],
   "source": [
    "# handling text data\n",
    "import pandas as pd\n",
    "import numpy as np\n",
    "from sklearn.datasets import fetch_20newsgroups\n",
    "categories = ['sci.med', 'sci.space']\n",
    "twenty_sci_news = fetch_20newsgroups(categories=categories)"
   ]
  },
  {
   "cell_type": "code",
   "execution_count": 30,
   "metadata": {
    "collapsed": false
   },
   "outputs": [
    {
     "data": {
      "text/plain": [
       "u'From: flb@flb.optiplan.fi (\"F.Baube[tm]\")\\nSubject: Vandalizing the sky\\nX-Added: Forwarded by Space Digest\\nOrganization: [via International Space University]\\nOriginal-Sender: isu@VACATION.VENARI.CS.CMU.EDU\\nDistribution: sci\\nLines: 12\\n\\nFrom: \"Phil G. Fraering\" <pgf@srl03.cacs.usl.edu>\\n> \\n> Finally: this isn\\'t the Bronze Age, [..]\\n> please try to remember that there are more human activities than\\n> those practiced by the Warrior Caste, the Farming Caste, and the\\n> Priesthood.\\n\\nRight, the Profiting Caste is blessed by God, and may \\n freely blare its presence in the evening twilight ..\\n\\n-- \\n* Fred Baube (tm)\\n'"
      ]
     },
     "execution_count": 30,
     "metadata": {},
     "output_type": "execute_result"
    }
   ],
   "source": [
    "twenty_sci_news.data[0]"
   ]
  },
  {
   "cell_type": "code",
   "execution_count": 31,
   "metadata": {
    "collapsed": false
   },
   "outputs": [
    {
     "data": {
      "text/plain": [
       "(1187, 25638)"
      ]
     },
     "execution_count": 31,
     "metadata": {},
     "output_type": "execute_result"
    }
   ],
   "source": [
    "from sklearn.feature_extraction.text import CountVectorizer\n",
    "count_vect = CountVectorizer()\n",
    "word_count = count_vect.fit_transform(twenty_sci_news.data)\n",
    "word_count.shape"
   ]
  },
  {
   "cell_type": "code",
   "execution_count": 32,
   "metadata": {
    "collapsed": false
   },
   "outputs": [
    {
     "name": "stdout",
     "output_type": "stream",
     "text": [
      "  (0, 10827)\t2\n",
      "  (0, 10501)\t2\n",
      "  (0, 17170)\t1\n",
      "  (0, 10341)\t1\n",
      "  (0, 4762)\t2\n",
      "  (0, 23381)\t2\n",
      "  (0, 22345)\t1\n",
      "  (0, 24461)\t1\n",
      "  (0, 23137)\t7\n",
      "  (0, 21382)\t1\n",
      "  (0, 3233)\t1\n",
      "  (0, 10713)\t1\n",
      "  (0, 5650)\t3\n",
      "  (0, 21686)\t2\n",
      "  (0, 8438)\t1\n",
      "  (0, 17217)\t1\n",
      "  (0, 24626)\t1\n",
      "  (0, 13158)\t1\n",
      "  (0, 24151)\t1\n",
      "  (0, 17235)\t1\n",
      "  (0, 20909)\t1\n",
      "  (0, 13359)\t1\n",
      "  (0, 24415)\t1\n",
      "  (0, 24547)\t1\n",
      "  (0, 7646)\t1\n",
      "  :\t:\n",
      "  (0, 15968)\t1\n",
      "  (0, 12362)\t1\n",
      "  (0, 3191)\t1\n",
      "  (0, 23129)\t1\n",
      "  (0, 23241)\t1\n",
      "  (0, 18474)\t1\n",
      "  (0, 24930)\t1\n",
      "  (0, 6017)\t3\n",
      "  (0, 10188)\t1\n",
      "  (0, 3808)\t2\n",
      "  (0, 18642)\t1\n",
      "  (0, 20110)\t1\n",
      "  (0, 18744)\t1\n",
      "  (0, 13318)\t1\n",
      "  (0, 5148)\t1\n",
      "  (0, 11330)\t1\n",
      "  (0, 15246)\t1\n",
      "  (0, 10785)\t1\n",
      "  (0, 5134)\t1\n",
      "  (0, 13384)\t1\n",
      "  (0, 18586)\t1\n",
      "  (0, 12716)\t1\n",
      "  (0, 9796)\t1\n",
      "  (0, 23849)\t1\n",
      "  (0, 10778)\t1\n"
     ]
    }
   ],
   "source": [
    "print word_count[0]"
   ]
  },
  {
   "cell_type": "code",
   "execution_count": 33,
   "metadata": {
    "collapsed": false
   },
   "outputs": [
    {
     "name": "stdout",
     "output_type": "stream",
     "text": [
      "Word: from appears 2 times\n",
      "Word: flb appears 2 times\n",
      "Word: optiplan appears 1 times\n",
      "Word: fi appears 1 times\n",
      "Word: baube appears 2 times\n",
      "Word: tm appears 2 times\n",
      "Word: subject appears 1 times\n",
      "Word: vandalizing appears 1 times\n",
      "Word: the appears 7 times\n",
      "Word: sky appears 1 times\n",
      "Word: added appears 1 times\n",
      "Word: forwarded appears 1 times\n",
      "Word: by appears 3 times\n",
      "Word: space appears 2 times\n",
      "Word: digest appears 1 times\n",
      "Word: organization appears 1 times\n",
      "Word: via appears 1 times\n",
      "Word: international appears 1 times\n",
      "Word: university appears 1 times\n",
      "Word: original appears 1 times\n",
      "Word: sender appears 1 times\n",
      "Word: isu appears 1 times\n",
      "Word: vacation appears 1 times\n",
      "Word: venari appears 1 times\n",
      "Word: cs appears 1 times\n",
      "Word: cmu appears 1 times\n",
      "Word: edu appears 2 times\n",
      "Word: distribution appears 1 times\n",
      "Word: sci appears 1 times\n",
      "Word: lines appears 1 times\n",
      "Word: 12 appears 1 times\n",
      "Word: phil appears 1 times\n",
      "Word: fraering appears 1 times\n",
      "Word: pgf appears 1 times\n",
      "Word: srl03 appears 1 times\n",
      "Word: cacs appears 1 times\n",
      "Word: usl appears 1 times\n",
      "Word: finally appears 1 times\n",
      "Word: this appears 1 times\n",
      "Word: isn appears 1 times\n",
      "Word: bronze appears 1 times\n",
      "Word: age appears 1 times\n",
      "Word: please appears 1 times\n",
      "Word: try appears 1 times\n",
      "Word: to appears 1 times\n",
      "Word: remember appears 1 times\n",
      "Word: that appears 1 times\n",
      "Word: there appears 1 times\n",
      "Word: are appears 1 times\n",
      "Word: more appears 1 times\n",
      "Word: human appears 1 times\n",
      "Word: activities appears 1 times\n",
      "Word: than appears 1 times\n",
      "Word: those appears 1 times\n",
      "Word: practiced appears 1 times\n",
      "Word: warrior appears 1 times\n",
      "Word: caste appears 3 times\n",
      "Word: farming appears 1 times\n",
      "Word: and appears 2 times\n",
      "Word: priesthood appears 1 times\n",
      "Word: right appears 1 times\n",
      "Word: profiting appears 1 times\n",
      "Word: is appears 1 times\n",
      "Word: blessed appears 1 times\n",
      "Word: god appears 1 times\n",
      "Word: may appears 1 times\n",
      "Word: freely appears 1 times\n",
      "Word: blare appears 1 times\n",
      "Word: its appears 1 times\n",
      "Word: presence appears 1 times\n",
      "Word: in appears 1 times\n",
      "Word: evening appears 1 times\n",
      "Word: twilight appears 1 times\n",
      "Word: fred appears 1 times\n"
     ]
    }
   ],
   "source": [
    "# see direct correspondecen to words\n",
    "word_list  = count_vect.get_feature_names()\n",
    "for n in word_count[0].indices:\n",
    "    print \"Word:\", word_list[n], \"appears\", word_count[0,n], \"times\""
   ]
  },
  {
   "cell_type": "code",
   "execution_count": 34,
   "metadata": {
    "collapsed": false
   },
   "outputs": [
    {
     "name": "stdout",
     "output_type": "stream",
     "text": [
      "Word :  from has frequency 0.021978021978\n",
      "Word :  flb has frequency 0.021978021978\n",
      "Word :  optiplan has frequency 0.010989010989\n",
      "Word :  fi has frequency 0.010989010989\n",
      "Word :  baube has frequency 0.021978021978\n",
      "Word :  tm has frequency 0.021978021978\n",
      "Word :  subject has frequency 0.010989010989\n",
      "Word :  vandalizing has frequency 0.010989010989\n",
      "Word :  the has frequency 0.0769230769231\n",
      "Word :  sky has frequency 0.010989010989\n",
      "Word :  added has frequency 0.010989010989\n",
      "Word :  forwarded has frequency 0.010989010989\n",
      "Word :  by has frequency 0.032967032967\n",
      "Word :  space has frequency 0.021978021978\n",
      "Word :  digest has frequency 0.010989010989\n",
      "Word :  organization has frequency 0.010989010989\n",
      "Word :  via has frequency 0.010989010989\n",
      "Word :  international has frequency 0.010989010989\n",
      "Word :  university has frequency 0.010989010989\n",
      "Word :  original has frequency 0.010989010989\n",
      "Word :  sender has frequency 0.010989010989\n",
      "Word :  isu has frequency 0.010989010989\n",
      "Word :  vacation has frequency 0.010989010989\n",
      "Word :  venari has frequency 0.010989010989\n",
      "Word :  cs has frequency 0.010989010989\n",
      "Word :  cmu has frequency 0.010989010989\n",
      "Word :  edu has frequency 0.021978021978\n",
      "Word :  distribution has frequency 0.010989010989\n",
      "Word :  sci has frequency 0.010989010989\n",
      "Word :  lines has frequency 0.010989010989\n",
      "Word :  12 has frequency 0.010989010989\n",
      "Word :  phil has frequency 0.010989010989\n",
      "Word :  fraering has frequency 0.010989010989\n",
      "Word :  pgf has frequency 0.010989010989\n",
      "Word :  srl03 has frequency 0.010989010989\n",
      "Word :  cacs has frequency 0.010989010989\n",
      "Word :  usl has frequency 0.010989010989\n",
      "Word :  finally has frequency 0.010989010989\n",
      "Word :  this has frequency 0.010989010989\n",
      "Word :  isn has frequency 0.010989010989\n",
      "Word :  bronze has frequency 0.010989010989\n",
      "Word :  age has frequency 0.010989010989\n",
      "Word :  please has frequency 0.010989010989\n",
      "Word :  try has frequency 0.010989010989\n",
      "Word :  to has frequency 0.010989010989\n",
      "Word :  remember has frequency 0.010989010989\n",
      "Word :  that has frequency 0.010989010989\n",
      "Word :  there has frequency 0.010989010989\n",
      "Word :  are has frequency 0.010989010989\n",
      "Word :  more has frequency 0.010989010989\n",
      "Word :  human has frequency 0.010989010989\n",
      "Word :  activities has frequency 0.010989010989\n",
      "Word :  than has frequency 0.010989010989\n",
      "Word :  those has frequency 0.010989010989\n",
      "Word :  practiced has frequency 0.010989010989\n",
      "Word :  warrior has frequency 0.010989010989\n",
      "Word :  caste has frequency 0.032967032967\n",
      "Word :  farming has frequency 0.010989010989\n",
      "Word :  and has frequency 0.021978021978\n",
      "Word :  priesthood has frequency 0.010989010989\n",
      "Word :  right has frequency 0.010989010989\n",
      "Word :  profiting has frequency 0.010989010989\n",
      "Word :  is has frequency 0.010989010989\n",
      "Word :  blessed has frequency 0.010989010989\n",
      "Word :  god has frequency 0.010989010989\n",
      "Word :  may has frequency 0.010989010989\n",
      "Word :  freely has frequency 0.010989010989\n",
      "Word :  blare has frequency 0.010989010989\n",
      "Word :  its has frequency 0.010989010989\n",
      "Word :  presence has frequency 0.010989010989\n",
      "Word :  in has frequency 0.010989010989\n",
      "Word :  evening has frequency 0.010989010989\n",
      "Word :  twilight has frequency 0.010989010989\n",
      "Word :  fred has frequency 0.010989010989\n"
     ]
    }
   ],
   "source": [
    "# compute word frequency with Tfidf\n",
    "from sklearn.feature_extraction.text import TfidfVectorizer\n",
    "tf_vect = TfidfVectorizer(use_idf = False, norm='l1' )\n",
    "word_freq = tf_vect.fit_transform(twenty_sci_news.data)\n",
    "word_list = tf_vect.get_feature_names()\n",
    "for n in word_freq[0].indices :\n",
    "    print \"Word : \", word_list[n], \"has frequency\", word_freq[0, n]"
   ]
  },
  {
   "cell_type": "code",
   "execution_count": 35,
   "metadata": {
    "collapsed": false
   },
   "outputs": [],
   "source": [
    "from sklearn.feature_extraction.text import TfidfVectorizer\n",
    "tfidf_vect = TfidfVectorizer() # tfidf true\n",
    "word_tfidf = tfidf_vect.fit_transform(twenty_sci_news.data)\n",
    "word_list = tfidf_vect.get_feature_names()"
   ]
  },
  {
   "cell_type": "code",
   "execution_count": 43,
   "metadata": {
    "collapsed": false
   },
   "outputs": [],
   "source": [
    "words = []\n",
    "scores = []\n",
    "\n",
    "for n in word_tfidf[0].indices:\n",
    "    #print \"Word :\", word_list[n], \"has tfidf\", word_tfidf[0, n]\n",
    "    words.append(word_list[n])\n",
    "    scores.append(word_tfidf[0, n])"
   ]
  },
  {
   "cell_type": "code",
   "execution_count": 56,
   "metadata": {
    "collapsed": false
   },
   "outputs": [],
   "source": [
    "words_scores = pd.DataFrame(np.column_stack((words, scores)))\n",
    "words_scores.columns = ['words','score']"
   ]
  },
  {
   "cell_type": "code",
   "execution_count": 59,
   "metadata": {
    "collapsed": false
   },
   "outputs": [
    {
     "name": "stdout",
     "output_type": "stream",
     "text": [
      "Top 5 words\n",
      "    words           score\n",
      "17  caste   0.43258869397\n",
      "72    flb   0.26428200052\n",
      "69  baube   0.26428200052\n",
      "68     tm  0.219051510033\n",
      "65    the  0.157543062907\n"
     ]
    }
   ],
   "source": [
    "print \"Top 5 words\"\n",
    "print words_scores.sort('score', ascending=False).head(5)"
   ]
  },
  {
   "cell_type": "code",
   "execution_count": 65,
   "metadata": {
    "collapsed": false
   },
   "outputs": [
    {
     "data": {
      "text/plain": [
       "['we love data science', 'data science is hard']"
      ]
     },
     "execution_count": 65,
     "metadata": {},
     "output_type": "execute_result"
    }
   ],
   "source": [
    "# taking a pair of words together using bigrams\n",
    "text_1 = 'we love data science'\n",
    "text_2 = 'data science is hard'\n",
    "documents = [text_1, text_2]\n",
    "documents"
   ]
  },
  {
   "cell_type": "code",
   "execution_count": 69,
   "metadata": {
    "collapsed": false
   },
   "outputs": [
    {
     "name": "stdout",
     "output_type": "stream",
     "text": [
      "Word list =  [u'data', u'hard', u'is', u'love', u'science', u'we']\n",
      "text_1 is described with [u'we(1)', u'love(1)', u'data(1)', u'science(1)']\n"
     ]
    }
   ],
   "source": [
    "# this is without bigrams\n",
    "count_vec_1_grams = CountVectorizer(ngram_range=(1,1), stop_words=[], min_df = 1)\n",
    "word_count = count_vec_1_grams.fit_transform(documents)\n",
    "word_list = count_vec_1_grams.get_feature_names()\n",
    "print \"Word list = \", word_list\n",
    "print \"text_1 is described with\", [word_list[n] + \"(\" + str(word_count[0,n]) + \")\" for n in word_count[0].indices]"
   ]
  },
  {
   "cell_type": "code",
   "execution_count": 70,
   "metadata": {
    "collapsed": false
   },
   "outputs": [
    {
     "name": "stdout",
     "output_type": "stream",
     "text": [
      "Word list =  [u'data science', u'is hard', u'love data', u'science is', u'we love']\n",
      "text_1 is described with  [u'we love(1)', u'love data(1)', u'data science(1)']\n"
     ]
    }
   ],
   "source": [
    "# this is with bigrams\n",
    "count_vec_1_grams = CountVectorizer(ngram_range=(2,2))\n",
    "word_count = count_vec_1_grams.fit_transform(documents)\n",
    "word_list = count_vec_1_grams.get_feature_names()\n",
    "print \"Word list = \", word_list\n",
    "print \"text_1 is described with \", [word_list[n] + \"(\" + str(word_count[0,n]) + \")\" for n in word_count[0].indices]"
   ]
  },
  {
   "cell_type": "code",
   "execution_count": 71,
   "metadata": {
    "collapsed": false
   },
   "outputs": [
    {
     "name": "stdout",
     "output_type": "stream",
     "text": [
      "Word list =  [u'data', u'data science', u'hard', u'is', u'is hard', u'love', u'love data', u'science', u'science is', u'we', u'we love']\n",
      "text_1 is described with  [u'we(1)', u'love(1)', u'data(1)', u'science(1)', u'we love(1)', u'love data(1)', u'data science(1)']\n"
     ]
    }
   ],
   "source": [
    "# now in uni and bigram\n",
    "count_vec_1_grams = CountVectorizer(ngram_range=(1,2))\n",
    "word_count = count_vec_1_grams.fit_transform(documents)\n",
    "word_list = count_vec_1_grams.get_feature_names()\n",
    "print \"Word list = \", word_list\n",
    "print \"text_1 is described with \", [word_list[n] + \"(\" + str(word_count[0,n]) + \")\" for n in word_count[0].indices]"
   ]
  },
  {
   "cell_type": "code",
   "execution_count": 72,
   "metadata": {
    "collapsed": false
   },
   "outputs": [
    {
     "data": {
      "text/plain": [
       "(1187, 1000)"
      ]
     },
     "execution_count": 72,
     "metadata": {},
     "output_type": "execute_result"
    }
   ],
   "source": [
    "# hashing to help when ngrams get to large\n",
    "from sklearn.feature_extraction.text import HashingVectorizer\n",
    "hash_vect = HashingVectorizer(n_features = 1000)\n",
    "word_hashed = hash_vect.fit_transform(twenty_sci_news.data)\n",
    "word_hashed.shape"
   ]
  },
  {
   "cell_type": "markdown",
   "metadata": {},
   "source": [
    "## Data Processing With Numpy"
   ]
  },
  {
   "cell_type": "code",
   "execution_count": 75,
   "metadata": {
    "collapsed": true
   },
   "outputs": [],
   "source": [
    "import numpy as np"
   ]
  },
  {
   "cell_type": "code",
   "execution_count": 77,
   "metadata": {
    "collapsed": false
   },
   "outputs": [
    {
     "data": {
      "text/plain": [
       "2"
      ]
     },
     "execution_count": 77,
     "metadata": {},
     "output_type": "execute_result"
    }
   ],
   "source": [
    "list_of_ints = [1,2,3]\n",
    "Array_1 = np.array(list_of_ints)\n",
    "Array_1[1] # access same as a list"
   ]
  },
  {
   "cell_type": "code",
   "execution_count": 78,
   "metadata": {
    "collapsed": false
   },
   "outputs": [
    {
     "name": "stdout",
     "output_type": "stream",
     "text": [
      "<type 'numpy.ndarray'>\n",
      "int32\n"
     ]
    }
   ],
   "source": [
    "print type(Array_1)\n",
    "print Array_1.dtype"
   ]
  },
  {
   "cell_type": "code",
   "execution_count": 82,
   "metadata": {
    "collapsed": false
   },
   "outputs": [
    {
     "name": "stdout",
     "output_type": "stream",
     "text": [
      "This array takes up 12 bytes\n"
     ]
    }
   ],
   "source": [
    "print \"This array takes up\" ,Array_1.nbytes, \"bytes\""
   ]
  },
  {
   "cell_type": "code",
   "execution_count": 83,
   "metadata": {
    "collapsed": true
   },
   "outputs": [],
   "source": [
    "# to save memory ints can be made smaller\n",
    "Array_1 = np.array(list_of_ints, dtype='int8')"
   ]
  },
  {
   "cell_type": "code",
   "execution_count": 84,
   "metadata": {
    "collapsed": false
   },
   "outputs": [
    {
     "data": {
      "text/plain": [
       "array([ 1.,  2.,  3.], dtype=float32)"
      ]
     },
     "execution_count": 84,
     "metadata": {},
     "output_type": "execute_result"
    }
   ],
   "source": [
    "# change the data type\n",
    "Array_1b = Array_1.astype('float32')\n",
    "Array_1b"
   ]
  },
  {
   "cell_type": "code",
   "execution_count": 88,
   "metadata": {
    "collapsed": false
   },
   "outputs": [
    {
     "name": "stdout",
     "output_type": "stream",
     "text": [
      "complex_list[:3] int32\n",
      "complex_list[:6] float64\n",
      "complex_list[:] |S32\n"
     ]
    }
   ],
   "source": [
    "# heterogenous lists\n",
    "complex_list = [1,2,3] + [1.,2.,3.] + ['a', 'b', 'c']\n",
    "Array_2 = np.array(complex_list[:3])\n",
    "print 'complex_list[:3]', Array_2.dtype\n",
    "Array_2 = np.array(complex_list[:6]) # then it is ints and floats\n",
    "print \"complex_list[:6]\", Array_2.dtype\n",
    "Array_2 = np.array(complex_list[:]) # finally adding strings\n",
    "print \"complex_list[:]\", Array_2.dtype"
   ]
  },
  {
   "cell_type": "code",
   "execution_count": 90,
   "metadata": {
    "collapsed": false
   },
   "outputs": [
    {
     "name": "stdout",
     "output_type": "stream",
     "text": [
      "False\n"
     ]
    }
   ],
   "source": [
    "# check if the array is numeric\n",
    "print isinstance(Array_2[0], np.number)"
   ]
  },
  {
   "cell_type": "code",
   "execution_count": 91,
   "metadata": {
    "collapsed": false
   },
   "outputs": [
    {
     "data": {
      "text/plain": [
       "array([[1, 2, 3],\n",
       "       [4, 5, 6],\n",
       "       [7, 8, 9]])"
      ]
     },
     "execution_count": 91,
     "metadata": {},
     "output_type": "execute_result"
    }
   ],
   "source": [
    "# transfomr into bidimensional array\n",
    "a_list_of_lists = [[1,2,3], [4,5,6], [7,8,9]]\n",
    "Array_2D = np.array(a_list_of_lists)\n",
    "Array_2D"
   ]
  },
  {
   "cell_type": "code",
   "execution_count": 92,
   "metadata": {
    "collapsed": false
   },
   "outputs": [
    {
     "data": {
      "text/plain": [
       "5"
      ]
     },
     "execution_count": 92,
     "metadata": {},
     "output_type": "execute_result"
    }
   ],
   "source": [
    "# select by rows and columns\n",
    "Array_2D[1,1]"
   ]
  },
  {
   "cell_type": "code",
   "execution_count": 93,
   "metadata": {
    "collapsed": false
   },
   "outputs": [
    {
     "data": {
      "text/plain": [
       "array([[[ 1,  2],\n",
       "        [ 3,  4],\n",
       "        [ 5,  6]],\n",
       "\n",
       "       [[ 7,  8],\n",
       "        [ 9, 10],\n",
       "        [11, 12]]])"
      ]
     },
     "execution_count": 93,
     "metadata": {},
     "output_type": "execute_result"
    }
   ],
   "source": [
    "# transform into multidimensional array ; more thant 2 dimensions\n",
    "a_list_of_lists_of_lists = [[[1,2], [3,4], [5,6]], [[7,8], [9,10],[11,12]]]\n",
    "Array_3D = np.array(a_list_of_lists_of_lists)\n",
    "Array_3D"
   ]
  },
  {
   "cell_type": "code",
   "execution_count": 94,
   "metadata": {
    "collapsed": false
   },
   "outputs": [
    {
     "data": {
      "text/plain": [
       "5"
      ]
     },
     "execution_count": 94,
     "metadata": {},
     "output_type": "execute_result"
    }
   ],
   "source": [
    "# access by using 3 - yes 3 - indexes\n",
    "Array_3D[0,2,0] "
   ]
  },
  {
   "cell_type": "markdown",
   "metadata": {},
   "source": [
    "## Reshaping Arrays"
   ]
  },
  {
   "cell_type": "code",
   "execution_count": 95,
   "metadata": {
    "collapsed": true
   },
   "outputs": [],
   "source": [
    "import numpy as np\n",
    "original_array = np.array([1,2,3,4,5,6,7,8])\n",
    "Array_a = original_array.reshape(4,2)\n",
    "Array_b = original_array.reshape(4,2).copy()\n",
    "Array_c = original_array.reshape(2,2,2)\n",
    "# reshape creeates views and not copies, so only the unaffected one is copy()\n",
    "original_array[0] = -1"
   ]
  },
  {
   "cell_type": "code",
   "execution_count": 96,
   "metadata": {
    "collapsed": false
   },
   "outputs": [
    {
     "name": "stdout",
     "output_type": "stream",
     "text": [
      "[[-1  2]\n",
      " [ 3  4]\n",
      " [ 5  6]\n",
      " [ 7  8]]\n",
      "[[1 2]\n",
      " [3 4]\n",
      " [5 6]\n",
      " [7 8]]\n",
      "[[[-1  2]\n",
      "  [ 3  4]]\n",
      "\n",
      " [[ 5  6]\n",
      "  [ 7  8]]]\n"
     ]
    }
   ],
   "source": [
    "print Array_a\n",
    "print Array_b\n",
    "print Array_c"
   ]
  },
  {
   "cell_type": "code",
   "execution_count": 98,
   "metadata": {
    "collapsed": false
   },
   "outputs": [
    {
     "data": {
      "text/plain": [
       "array([[-1,  3,  5,  7],\n",
       "       [ 2,  4,  6,  8]])"
      ]
     },
     "execution_count": 98,
     "metadata": {},
     "output_type": "execute_result"
    }
   ],
   "source": [
    "# resizing will change actual shape\n",
    "original_array.resize(4,2)\n",
    "original_array.T"
   ]
  },
  {
   "cell_type": "code",
   "execution_count": 99,
   "metadata": {
    "collapsed": false
   },
   "outputs": [
    {
     "data": {
      "text/plain": [
       "array([[0, 1, 2],\n",
       "       [3, 4, 5],\n",
       "       [6, 7, 8]])"
      ]
     },
     "execution_count": 99,
     "metadata": {},
     "output_type": "execute_result"
    }
   ],
   "source": [
    "# create array from ordinal values\n",
    "X = np.arange(9).reshape(3,3)\n",
    "X"
   ]
  },
  {
   "cell_type": "code",
   "execution_count": 100,
   "metadata": {
    "collapsed": false
   },
   "outputs": [
    {
     "data": {
      "text/plain": [
       "array([8, 7, 6, 5, 4, 3, 2, 1, 0])"
      ]
     },
     "execution_count": 100,
     "metadata": {},
     "output_type": "execute_result"
    }
   ],
   "source": [
    "# reverse order of array values\n",
    "np.arange(9)[::-1]"
   ]
  },
  {
   "cell_type": "code",
   "execution_count": 102,
   "metadata": {
    "collapsed": false
   },
   "outputs": [
    {
     "data": {
      "text/plain": [
       "array([[8, 5, 1],\n",
       "       [6, 3, 5],\n",
       "       [6, 5, 5]])"
      ]
     },
     "execution_count": 102,
     "metadata": {},
     "output_type": "execute_result"
    }
   ],
   "source": [
    "# for random integers\n",
    "np.random.randint(low=1,high=10,size=(3,3)).reshape(3,3)"
   ]
  },
  {
   "cell_type": "code",
   "execution_count": 104,
   "metadata": {
    "collapsed": false
   },
   "outputs": [
    {
     "name": "stdout",
     "output_type": "stream",
     "text": [
      "Zeros\n",
      "[[ 0.  0.  0.]\n",
      " [ 0.  0.  0.]\n",
      " [ 0.  0.  0.]]\n",
      "Ones\n",
      "[[ 1.  1.  1.]\n",
      " [ 1.  1.  1.]\n",
      " [ 1.  1.  1.]]\n",
      "Diagnoals\n",
      "[[ 1.  0.  0.]\n",
      " [ 0.  1.  0.]\n",
      " [ 0.  0.  1.]]\n"
     ]
    }
   ],
   "source": [
    "# zero and one matrices\n",
    "print \"Zeros\"\n",
    "print np.zeros((3,3))\n",
    "print \"Ones\"\n",
    "print np.ones((3,3))\n",
    "print \"Diagnoals\"\n",
    "print np.eye(3)"
   ]
  },
  {
   "cell_type": "code",
   "execution_count": 105,
   "metadata": {
    "collapsed": false
   },
   "outputs": [
    {
     "data": {
      "text/plain": [
       "array([ 0.        ,  0.11111111,  0.22222222,  0.33333333,  0.44444444,\n",
       "        0.55555556,  0.66666667,  0.77777778,  0.88888889,  1.        ])"
      ]
     },
     "execution_count": 105,
     "metadata": {},
     "output_type": "execute_result"
    }
   ],
   "source": [
    "# grid search for optimal paramters? not a problem\n",
    "fractions = np.linspace(start=0, stop = 1, num = 10)\n",
    "fractions"
   ]
  },
  {
   "cell_type": "code",
   "execution_count": 106,
   "metadata": {
    "collapsed": false
   },
   "outputs": [
    {
     "data": {
      "text/plain": [
       "array([  1.        ,   1.29154967,   1.66810054,   2.15443469,\n",
       "         2.7825594 ,   3.59381366,   4.64158883,   5.9948425 ,\n",
       "         7.74263683,  10.        ])"
      ]
     },
     "execution_count": 106,
     "metadata": {},
     "output_type": "execute_result"
    }
   ],
   "source": [
    "# logatrhimic growth too\n",
    "np.logspace(start=0, stop =1, num = 10, base = 10.0)"
   ]
  },
  {
   "cell_type": "code",
   "execution_count": 107,
   "metadata": {
    "collapsed": false
   },
   "outputs": [
    {
     "data": {
      "text/plain": [
       "array([[-0.43294648,  0.01630927, -0.69048359],\n",
       "       [ 0.10102101,  0.04083076,  0.36928239],\n",
       "       [ 0.46704087,  1.14339323, -0.72719884]])"
      ]
     },
     "execution_count": 107,
     "metadata": {},
     "output_type": "execute_result"
    }
   ],
   "source": [
    "# 3x3 standard gaussian\n",
    "np.random.normal(size = (3,3))"
   ]
  },
  {
   "cell_type": "code",
   "execution_count": 108,
   "metadata": {
    "collapsed": false
   },
   "outputs": [
    {
     "data": {
      "text/plain": [
       "array([[ 2.93049591,  0.39677472, -3.21282723],\n",
       "       [ 0.76606218,  2.87158197, -2.8629266 ],\n",
       "       [-0.98926459,  4.17799848, -1.37658382]])"
      ]
     },
     "execution_count": 108,
     "metadata": {},
     "output_type": "execute_result"
    }
   ],
   "source": [
    "# specifing means and std\n",
    "np.random.normal(loc=1.0, scale = 3.0, size = (3,3)) # loc = mean ; scale = std"
   ]
  },
  {
   "cell_type": "code",
   "execution_count": 109,
   "metadata": {
    "collapsed": false
   },
   "outputs": [
    {
     "data": {
      "text/plain": [
       "array([[ 0.38961073,  0.35867929,  0.69853802],\n",
       "       [ 0.28265605,  0.62237905,  0.02648808],\n",
       "       [ 0.98953812,  0.87585494,  0.82413957]])"
      ]
     },
     "execution_count": 109,
     "metadata": {},
     "output_type": "execute_result"
    }
   ],
   "source": [
    "# make a uniform dist\n",
    "np.random.uniform(low=0.0, high = 1.0, size= (3,3))"
   ]
  },
  {
   "cell_type": "markdown",
   "metadata": {},
   "source": [
    "## Getting Array Data Directly From a File"
   ]
  },
  {
   "cell_type": "code",
   "execution_count": 111,
   "metadata": {
    "collapsed": false
   },
   "outputs": [],
   "source": [
    "import numpy as np\n",
    "hs = np.loadtxt('data\\\\regression-datasets-housing.csv', delimiter=',', dtype=float)"
   ]
  },
  {
   "cell_type": "code",
   "execution_count": 112,
   "metadata": {
    "collapsed": true
   },
   "outputs": [],
   "source": [
    "# or just use pandas\n",
    "hs = pd.read_csv('data\\\\regression-datasets-housing.csv', header = None)"
   ]
  },
  {
   "cell_type": "code",
   "execution_count": 113,
   "metadata": {
    "collapsed": false
   },
   "outputs": [
    {
     "data": {
      "text/plain": [
       "dtype('float64')"
      ]
     },
     "execution_count": 113,
     "metadata": {},
     "output_type": "execute_result"
    }
   ],
   "source": [
    "# use values to extract an array \n",
    "hs_array = hs.values\n",
    "hs_array.dtype"
   ]
  },
  {
   "cell_type": "code",
   "execution_count": 115,
   "metadata": {
    "collapsed": false
   },
   "outputs": [],
   "source": [
    "# apply mathematical operations to scalar to be performed elementwise\n",
    "a = np.arange(5).reshape(1,5)\n",
    "a += 1"
   ]
  },
  {
   "cell_type": "code",
   "execution_count": 116,
   "metadata": {
    "collapsed": false
   },
   "outputs": [
    {
     "data": {
      "text/plain": [
       "array([[ 1,  4,  9, 16, 25]])"
      ]
     },
     "execution_count": 116,
     "metadata": {},
     "output_type": "execute_result"
    }
   ],
   "source": [
    "a * a"
   ]
  },
  {
   "cell_type": "code",
   "execution_count": 117,
   "metadata": {
    "collapsed": false
   },
   "outputs": [
    {
     "data": {
      "text/plain": [
       "array([[ 1,  2,  3,  4,  5],\n",
       "       [ 2,  4,  6,  8, 10],\n",
       "       [ 3,  6,  9, 12, 15],\n",
       "       [ 4,  8, 12, 16, 20],\n",
       "       [ 5, 10, 15, 20, 25]])"
      ]
     },
     "execution_count": 117,
     "metadata": {},
     "output_type": "execute_result"
    }
   ],
   "source": [
    "# obtain elementwise opreations without restructing data\n",
    "# broadcasting\n",
    "a = np.arange(5).reshape(1,5) + 1\n",
    "b = np.arange(5).reshape(5,1) + 1\n",
    "a * b"
   ]
  },
  {
   "cell_type": "code",
   "execution_count": 120,
   "metadata": {
    "collapsed": false
   },
   "outputs": [
    {
     "data": {
      "text/plain": [
       "array([[ 1,  2,  3,  4,  5],\n",
       "       [ 2,  4,  6,  8, 10],\n",
       "       [ 3,  6,  9, 12, 15],\n",
       "       [ 4,  8, 12, 16, 20],\n",
       "       [ 5, 10, 15, 20, 25]])"
      ]
     },
     "execution_count": 120,
     "metadata": {},
     "output_type": "execute_result"
    }
   ],
   "source": [
    "# this is equivalent to\n",
    "a2 = np.array([1,2,3,4,5] * 5).reshape(5,5)\n",
    "a2 * a2.T"
   ]
  },
  {
   "cell_type": "code",
   "execution_count": 124,
   "metadata": {
    "collapsed": false
   },
   "outputs": [
    {
     "name": "stdout",
     "output_type": "stream",
     "text": [
      "[ 5 10 15 20 25]\n",
      "[15 15 15 15 15]\n"
     ]
    }
   ],
   "source": [
    "# sum via  the axis\n",
    "print np.sum(a2, axis = 0) # sum by column\n",
    "print np.sum(a2, axis = 1) # sum by row"
   ]
  },
  {
   "cell_type": "code",
   "execution_count": 126,
   "metadata": {
    "collapsed": false
   },
   "outputs": [
    {
     "name": "stdout",
     "output_type": "stream",
     "text": [
      "1 loops, best of 3: 4.54 ms per loop\n"
     ]
    }
   ],
   "source": [
    "# arrays are fast\n",
    "# compare list speed to array speed\n",
    "%timeit -n 1 -r 3 np.arange(10**6) + 1.0 # -n 1  for one loop ; -r 3 for 3 executions"
   ]
  },
  {
   "cell_type": "code",
   "execution_count": 127,
   "metadata": {
    "collapsed": false
   },
   "outputs": [
    {
     "name": "stdout",
     "output_type": "stream",
     "text": [
      "1 loops, best of 3: 92 ms per loop\n"
     ]
    }
   ],
   "source": [
    "%timeit -n 1 -r 3 [i+1.0 for i in range(10**6)]"
   ]
  },
  {
   "cell_type": "code",
   "execution_count": 129,
   "metadata": {
    "collapsed": false
   },
   "outputs": [
    {
     "name": "stdout",
     "output_type": "stream",
     "text": [
      "1 loops, best of 3: 159 ms per loop\n"
     ]
    }
   ],
   "source": [
    "# this can also be show on math operations\n",
    "import math\n",
    "%timeit -n 1 -r 3 [math.sqrt(i) for i in range(10**6)]"
   ]
  },
  {
   "cell_type": "code",
   "execution_count": 130,
   "metadata": {
    "collapsed": false
   },
   "outputs": [
    {
     "name": "stdout",
     "output_type": "stream",
     "text": [
      "1 loops, best of 3: 5.91 ms per loop\n"
     ]
    }
   ],
   "source": [
    "%timeit -n 1 -r 3 np.sqrt(np.arange(10**6))"
   ]
  },
  {
   "cell_type": "markdown",
   "metadata": {},
   "source": [
    "## Marix Opretaions - pg 75"
   ]
  },
  {
   "cell_type": "code",
   "execution_count": 2,
   "metadata": {
    "collapsed": false
   },
   "outputs": [
    {
     "data": {
      "text/plain": [
       "array([[  0.,   1.,   2.,   3.,   4.],\n",
       "       [  5.,   6.,   7.,   8.,   9.],\n",
       "       [ 10.,  11.,  12.,  13.,  14.],\n",
       "       [ 15.,  16.,  17.,  18.,  19.],\n",
       "       [ 20.,  21.,  22.,  23.,  24.]])"
      ]
     },
     "execution_count": 2,
     "metadata": {},
     "output_type": "execute_result"
    }
   ],
   "source": [
    "import numpy as np\n",
    "# matrix * matrix \n",
    "M = np.arange(5*5, dtype = float).reshape(5,5)\n",
    "M"
   ]
  },
  {
   "cell_type": "code",
   "execution_count": 3,
   "metadata": {
    "collapsed": false
   },
   "outputs": [
    {
     "data": {
      "text/plain": [
       "array([[ 1. ,  0.5],\n",
       "       [ 0.5,  0.5],\n",
       "       [ 0.5,  0.5],\n",
       "       [ 0.5,  0.5],\n",
       "       [ 0.5,  1. ]])"
      ]
     },
     "execution_count": 3,
     "metadata": {},
     "output_type": "execute_result"
    }
   ],
   "source": [
    "coefs = np.array([1., .5, .5, .5, .5])\n",
    "coefs_matrix = np.column_stack((coefs, coefs[::-1]))\n",
    "coefs_matrix"
   ]
  },
  {
   "cell_type": "code",
   "execution_count": 5,
   "metadata": {
    "collapsed": false
   },
   "outputs": [
    {
     "data": {
      "text/plain": [
       "array([  5.,  20.,  35.,  50.,  65.])"
      ]
     },
     "execution_count": 5,
     "metadata": {},
     "output_type": "execute_result"
    }
   ],
   "source": [
    "np.dot(M, coefs)"
   ]
  },
  {
   "cell_type": "code",
   "execution_count": 6,
   "metadata": {
    "collapsed": false
   },
   "outputs": [
    {
     "data": {
      "text/plain": [
       "array([[  5.,   7.],\n",
       "       [ 20.,  22.],\n",
       "       [ 35.,  37.],\n",
       "       [ 50.,  52.],\n",
       "       [ 65.,  67.]])"
      ]
     },
     "execution_count": 6,
     "metadata": {},
     "output_type": "execute_result"
    }
   ],
   "source": [
    "# mutiply the array by stack coeffecient vectors\n",
    "np.dot(M, coefs_matrix)"
   ]
  },
  {
   "cell_type": "code",
   "execution_count": 7,
   "metadata": {
    "collapsed": true
   },
   "outputs": [],
   "source": [
    "# slicing and indexing\n",
    "M = np.arange(10 * 10 , dtype = int).reshape(10,10)"
   ]
  },
  {
   "cell_type": "code",
   "execution_count": 8,
   "metadata": {
    "collapsed": false,
    "scrolled": true
   },
   "outputs": [
    {
     "data": {
      "text/plain": [
       "array([[20, 21, 22, 23, 24, 25, 26, 27, 28, 29],\n",
       "       [40, 41, 42, 43, 44, 45, 46, 47, 48, 49],\n",
       "       [60, 61, 62, 63, 64, 65, 66, 67, 68, 69],\n",
       "       [80, 81, 82, 83, 84, 85, 86, 87, 88, 89]])"
      ]
     },
     "execution_count": 8,
     "metadata": {},
     "output_type": "execute_result"
    }
   ],
   "source": [
    "# extract even rows from 2 to 8\n",
    "M[2:9:2, : ]"
   ]
  },
  {
   "cell_type": "code",
   "execution_count": 9,
   "metadata": {
    "collapsed": false
   },
   "outputs": [
    {
     "data": {
      "text/plain": [
       "array([[25, 26, 27, 28, 29],\n",
       "       [45, 46, 47, 48, 49],\n",
       "       [65, 66, 67, 68, 69],\n",
       "       [85, 86, 87, 88, 89]])"
      ]
     },
     "execution_count": 9,
     "metadata": {},
     "output_type": "execute_result"
    }
   ],
   "source": [
    "# select the 5th column\n",
    "M[2:9:2, 5:]"
   ]
  },
  {
   "cell_type": "code",
   "execution_count": 10,
   "metadata": {
    "collapsed": false
   },
   "outputs": [
    {
     "data": {
      "text/plain": [
       "array([[25, 24, 23, 22, 21, 20],\n",
       "       [45, 44, 43, 42, 41, 40],\n",
       "       [65, 64, 63, 62, 61, 60],\n",
       "       [85, 84, 83, 82, 81, 80]])"
      ]
     },
     "execution_count": 10,
     "metadata": {},
     "output_type": "execute_result"
    }
   ],
   "source": [
    "# start from column 5 but in reverse order the index 0\n",
    "M[2:9:2, 5::-1]"
   ]
  },
  {
   "cell_type": "code",
   "execution_count": 12,
   "metadata": {
    "collapsed": false
   },
   "outputs": [
    {
     "data": {
      "text/plain": [
       "array([[25, 26, 27, 28, 29],\n",
       "       [35, 36, 37, 38, 39],\n",
       "       [45, 46, 47, 48, 49],\n",
       "       [55, 56, 57, 58, 59],\n",
       "       [65, 66, 67, 68, 69],\n",
       "       [75, 76, 77, 78, 79],\n",
       "       [85, 86, 87, 88, 89]])"
      ]
     },
     "execution_count": 12,
     "metadata": {},
     "output_type": "execute_result"
    }
   ],
   "source": [
    "# create mask to select rows\n",
    "row_index = (M[:,0] >= 20) & (M[:,0] <= 80)\n",
    "col_index = M[0,:] >= 5\n",
    "M[row_index, :][:,col_index]"
   ]
  },
  {
   "cell_type": "code",
   "execution_count": 13,
   "metadata": {
    "collapsed": false
   },
   "outputs": [
    {
     "data": {
      "text/plain": [
       "array([10, 12, 24, 78])"
      ]
     },
     "execution_count": 13,
     "metadata": {},
     "output_type": "execute_result"
    }
   ],
   "source": [
    "# provide row or column index to select from array\n",
    "row_index = [1,1,2,7]\n",
    "col_index = [0,2,4,8]\n",
    "# apply to select \n",
    "M[row_index, col_index]"
   ]
  },
  {
   "cell_type": "code",
   "execution_count": 15,
   "metadata": {
    "collapsed": false
   },
   "outputs": [
    {
     "data": {
      "text/plain": [
       "array([[10, 12, 14, 18],\n",
       "       [10, 12, 14, 18],\n",
       "       [20, 22, 24, 28],\n",
       "       [70, 72, 74, 78]])"
      ]
     },
     "execution_count": 15,
     "metadata": {},
     "output_type": "execute_result"
    }
   ],
   "source": [
    "# select BETWEEN these sections\n",
    "M[row_index,: ][:, col_index]"
   ]
  },
  {
   "cell_type": "code",
   "execution_count": 18,
   "metadata": {
    "collapsed": false
   },
   "outputs": [
    {
     "data": {
      "text/plain": [
       "array([[25, 26, 27, 28, 29],\n",
       "       [45, 46, 47, 48, 49],\n",
       "       [65, 66, 67, 68, 69],\n",
       "       [85, 86, 87, 88, 89]])"
      ]
     },
     "execution_count": 18,
     "metadata": {},
     "output_type": "execute_result"
    }
   ],
   "source": [
    "# if a new data needs to be created you must use copy\n",
    "N = M[2:9:2, 5:].copy()\n",
    "N"
   ]
  },
  {
   "cell_type": "markdown",
   "metadata": {},
   "source": [
    "## Stacking Numpy Arrays"
   ]
  },
  {
   "cell_type": "code",
   "execution_count": 19,
   "metadata": {
    "collapsed": false
   },
   "outputs": [],
   "source": [
    "import numpy as np\n",
    "d = np.arange(10*5).reshape(10,5)\n",
    "single = np.arange(1*5).reshape(1,5)\n",
    "lines = np.arange(3*5).reshape(3,5)"
   ]
  },
  {
   "cell_type": "code",
   "execution_count": 23,
   "metadata": {
    "collapsed": false
   },
   "outputs": [
    {
     "data": {
      "text/plain": [
       "array([[ 0,  1,  2,  3,  4],\n",
       "       [ 5,  6,  7,  8,  9],\n",
       "       [10, 11, 12, 13, 14],\n",
       "       [15, 16, 17, 18, 19],\n",
       "       [20, 21, 22, 23, 24],\n",
       "       [25, 26, 27, 28, 29],\n",
       "       [30, 31, 32, 33, 34],\n",
       "       [35, 36, 37, 38, 39],\n",
       "       [40, 41, 42, 43, 44],\n",
       "       [45, 46, 47, 48, 49],\n",
       "       [ 0,  1,  2,  3,  4]])"
      ]
     },
     "execution_count": 23,
     "metadata": {},
     "output_type": "execute_result"
    }
   ],
   "source": [
    "# stacking a single line\n",
    "np.vstack((d, single))"
   ]
  },
  {
   "cell_type": "code",
   "execution_count": 24,
   "metadata": {
    "collapsed": false
   },
   "outputs": [
    {
     "data": {
      "text/plain": [
       "array([[ 0,  1,  2,  3,  4],\n",
       "       [ 5,  6,  7,  8,  9],\n",
       "       [10, 11, 12, 13, 14],\n",
       "       [15, 16, 17, 18, 19],\n",
       "       [20, 21, 22, 23, 24],\n",
       "       [25, 26, 27, 28, 29],\n",
       "       [30, 31, 32, 33, 34],\n",
       "       [35, 36, 37, 38, 39],\n",
       "       [40, 41, 42, 43, 44],\n",
       "       [45, 46, 47, 48, 49],\n",
       "       [ 0,  1,  2,  3,  4],\n",
       "       [ 5,  6,  7,  8,  9],\n",
       "       [10, 11, 12, 13, 14]])"
      ]
     },
     "execution_count": 24,
     "metadata": {},
     "output_type": "execute_result"
    }
   ],
   "source": [
    "# stacking many\n",
    "np.vstack((d, lines))"
   ]
  },
  {
   "cell_type": "code",
   "execution_count": 27,
   "metadata": {
    "collapsed": false
   },
   "outputs": [
    {
     "data": {
      "text/plain": [
       "array([[  0.,   1.,   2.,   3.,   4.,   1.],\n",
       "       [  5.,   6.,   7.,   8.,   9.,   1.],\n",
       "       [ 10.,  11.,  12.,  13.,  14.,   1.],\n",
       "       [ 15.,  16.,  17.,  18.,  19.,   1.],\n",
       "       [ 20.,  21.,  22.,  23.,  24.,   1.],\n",
       "       [ 25.,  26.,  27.,  28.,  29.,   1.],\n",
       "       [ 30.,  31.,  32.,  33.,  34.,   1.],\n",
       "       [ 35.,  36.,  37.,  38.,  39.,   1.],\n",
       "       [ 40.,  41.,  42.,  43.,  44.,   1.],\n",
       "       [ 45.,  46.,  47.,  48.,  49.,   1.]])"
      ]
     },
     "execution_count": 27,
     "metadata": {},
     "output_type": "execute_result"
    }
   ],
   "source": [
    "# add bias unit horzontially\n",
    "bias = np.ones(10).reshape(10,1)\n",
    "np.hstack((d, bias))"
   ]
  },
  {
   "cell_type": "code",
   "execution_count": 28,
   "metadata": {
    "collapsed": false
   },
   "outputs": [
    {
     "data": {
      "text/plain": [
       "array([[  0.,   1.,   2.,   3.,   4.,   1.],\n",
       "       [  5.,   6.,   7.,   8.,   9.,   1.],\n",
       "       [ 10.,  11.,  12.,  13.,  14.,   1.],\n",
       "       [ 15.,  16.,  17.,  18.,  19.,   1.],\n",
       "       [ 20.,  21.,  22.,  23.,  24.,   1.],\n",
       "       [ 25.,  26.,  27.,  28.,  29.,   1.],\n",
       "       [ 30.,  31.,  32.,  33.,  34.,   1.],\n",
       "       [ 35.,  36.,  37.,  38.,  39.,   1.],\n",
       "       [ 40.,  41.,  42.,  43.,  44.,   1.],\n",
       "       [ 45.,  46.,  47.,  48.,  49.,   1.]])"
      ]
     },
     "execution_count": 28,
     "metadata": {},
     "output_type": "execute_result"
    }
   ],
   "source": [
    "# column stack does not require the reshape\n",
    "bias = np.ones(10)\n",
    "np.column_stack((d, bias))"
   ]
  },
  {
   "cell_type": "code",
   "execution_count": 30,
   "metadata": {
    "collapsed": false
   },
   "outputs": [
    {
     "data": {
      "text/plain": [
       "array([[[  0,   5,  10,  15,  20,  25,  30,  35,  40,  45],\n",
       "        [  1,   6,  11,  16,  21,  26,  31,  36,  41,  46],\n",
       "        [  2,   7,  12,  17,  22,  27,  32,  37,  42,  47],\n",
       "        [  3,   8,  13,  18,  23,  28,  33,  38,  43,  48],\n",
       "        [  4,   9,  14,  19,  24,  29,  34,  39,  44,  49]],\n",
       "\n",
       "       [[  0,  10,  20,  30,  40,  50,  60,  70,  80,  90],\n",
       "        [  2,  12,  22,  32,  42,  52,  62,  72,  82,  92],\n",
       "        [  4,  14,  24,  34,  44,  54,  64,  74,  84,  94],\n",
       "        [  6,  16,  26,  36,  46,  56,  66,  76,  86,  96],\n",
       "        [  8,  18,  28,  38,  48,  58,  68,  78,  88,  98]],\n",
       "\n",
       "       [[  0,  15,  30,  45,  60,  75,  90, 105, 120, 135],\n",
       "        [  3,  18,  33,  48,  63,  78,  93, 108, 123, 138],\n",
       "        [  6,  21,  36,  51,  66,  81,  96, 111, 126, 141],\n",
       "        [  9,  24,  39,  54,  69,  84,  99, 114, 129, 144],\n",
       "        [ 12,  27,  42,  57,  72,  87, 102, 117, 132, 147]]])"
      ]
     },
     "execution_count": 30,
     "metadata": {},
     "output_type": "execute_result"
    }
   ],
   "source": [
    "# opearating on 3 Dimensional structure\n",
    "np.dstack((d*1, d*2, d*3)).T"
   ]
  },
  {
   "cell_type": "code",
   "execution_count": 31,
   "metadata": {
    "collapsed": false
   },
   "outputs": [
    {
     "data": {
      "text/plain": [
       "array([[ 0,  1,  2,  1,  3,  4],\n",
       "       [ 5,  6,  7,  1,  8,  9],\n",
       "       [10, 11, 12,  1, 13, 14],\n",
       "       [15, 16, 17,  1, 18, 19],\n",
       "       [20, 21, 22,  1, 23, 24],\n",
       "       [25, 26, 27,  1, 28, 29],\n",
       "       [30, 31, 32,  1, 33, 34],\n",
       "       [35, 36, 37,  1, 38, 39],\n",
       "       [40, 41, 42,  1, 43, 44],\n",
       "       [45, 46, 47,  1, 48, 49]])"
      ]
     },
     "execution_count": 31,
     "metadata": {},
     "output_type": "execute_result"
    }
   ],
   "source": [
    "# inesert values into an array\n",
    "np.insert(d, 3, bias, axis = 1)"
   ]
  },
  {
   "cell_type": "code",
   "execution_count": 33,
   "metadata": {
    "collapsed": false
   },
   "outputs": [
    {
     "data": {
      "text/plain": [
       "array([[ 0,  1,  2,  0,  1,  2,  3,  4,  3,  4],\n",
       "       [ 5,  6,  7,  5,  6,  7,  8,  9,  8,  9],\n",
       "       [10, 11, 12, 10, 11, 12, 13, 14, 13, 14],\n",
       "       [15, 16, 17, 15, 16, 17, 18, 19, 18, 19],\n",
       "       [20, 21, 22, 20, 21, 22, 23, 24, 23, 24],\n",
       "       [25, 26, 27, 25, 26, 27, 28, 29, 28, 29],\n",
       "       [30, 31, 32, 30, 31, 32, 33, 34, 33, 34],\n",
       "       [35, 36, 37, 35, 36, 37, 38, 39, 38, 39],\n",
       "       [40, 41, 42, 40, 41, 42, 43, 44, 43, 44],\n",
       "       [45, 46, 47, 45, 46, 47, 48, 49, 48, 49]])"
      ]
     },
     "execution_count": 33,
     "metadata": {},
     "output_type": "execute_result"
    }
   ],
   "source": [
    "# to insernt one array into another one must be transposed\n",
    "np.insert(d,3,d.T, axis = 1)"
   ]
  },
  {
   "cell_type": "code",
   "execution_count": 55,
   "metadata": {
    "collapsed": false
   },
   "outputs": [
    {
     "data": {
      "text/plain": [
       "array([[ 0,  1,  2,  3,  4],\n",
       "       [ 5,  6,  7,  8,  9],\n",
       "       [10, 11, 12, 13, 14],\n",
       "       [ 1,  1,  1,  1,  1],\n",
       "       [15, 16, 17, 18, 19],\n",
       "       [20, 21, 22, 23, 24],\n",
       "       [25, 26, 27, 28, 29],\n",
       "       [30, 31, 32, 33, 34],\n",
       "       [35, 36, 37, 38, 39],\n",
       "       [40, 41, 42, 43, 44],\n",
       "       [45, 46, 47, 48, 49]])"
      ]
     },
     "execution_count": 55,
     "metadata": {},
     "output_type": "execute_result"
    }
   ],
   "source": [
    "# axis can be changed for instert \n",
    "np.insert(d,3,bias.reshape(2,5)[1], axis = 0)"
   ]
  },
  {
   "cell_type": "code",
   "execution_count": null,
   "metadata": {
    "collapsed": true
   },
   "outputs": [],
   "source": []
  }
 ],
 "metadata": {
  "kernelspec": {
   "display_name": "Python 2",
   "language": "python",
   "name": "python2"
  },
  "language_info": {
   "codemirror_mode": {
    "name": "ipython",
    "version": 2
   },
   "file_extension": ".py",
   "mimetype": "text/x-python",
   "name": "python",
   "nbconvert_exporter": "python",
   "pygments_lexer": "ipython2",
   "version": "2.7.8"
  }
 },
 "nbformat": 4,
 "nbformat_minor": 0
}
