{
 "metadata": {
  "name": "",
  "signature": "sha256:3b0319cb6e68dcbcea57dfbcc3d16b63c68d5496443ab0d1a144e4e1ace3f272"
 },
 "nbformat": 3,
 "nbformat_minor": 0,
 "worksheets": [
  {
   "cells": [
    {
     "cell_type": "code",
     "collapsed": false,
     "input": [
      "import numpy as np\n",
      "import jinja2 \n",
      "import matplotlib as plt\n",
      "\n",
      "#Reading this data is straightforward with the built in csv module:\n",
      "import csv\n",
      "data_file = \"C:\\Users\\Home\\Documents\\Python_Code\\income_dist.csv\"\n",
      "with open(data_file, 'r') as csvfile:\n",
      "    reader = csv.DictReader(csvfile)\n",
      "    data = list(reader)"
     ],
     "language": "python",
     "metadata": {},
     "outputs": [],
     "prompt_number": 34
    },
    {
     "cell_type": "code",
     "collapsed": false,
     "input": [
      "len(data)\n",
      "print reader.fieldnames\n",
      "len(reader.fieldnames)"
     ],
     "language": "python",
     "metadata": {},
     "outputs": [
      {
       "output_type": "stream",
       "stream": "stdout",
       "text": [
        "['Country', 'Year', 'Top 10% income share', 'Top 10% income share-LAD', 'Top 10% income share-tax units', 'Top 10% income share-adults', 'Top 5% income share', 'Top 5% income share-LAD', 'Top 5% income share-tax units', 'Top 5% income share-adults', 'Top 1% income share', 'Top 1% income share-LAD', 'Top 1% income share-tax units', 'Top 1% income share-adults', 'Top 0.5% income share', 'Top 0.5% income share-LAD', 'Top 0.5% income share-tax units', 'Top 0.5% income share-adults', 'Top 0.1% income share', 'Top 0.1% income share-LAD', 'Top 0.1% income share-tax units', 'Top 0.1% income share-adults', 'Top 0.05% income share', 'Top 0.05% income share-tax units', 'Top 0.05% income share-adults', 'Top 0.01% income share', 'Top 0.01% income share-LAD', 'Top 0.01% income share-tax units', 'Top 0.01% income share-adults', 'Top 0.25% income share', 'Top 0.15% income share', 'Top 10-5% income share', 'Top 10-5% income share-LAD', 'Top 10-5% income share-tax units', 'Top 10-5% income share-adults', 'Top 5-1% income share', 'Top 5-1% income share-LAD', 'Top 5-1% income share-tax units', 'Top 5-1% income share-adults', 'Top 1-0.5% income share', 'Top 1-0.5% income share-LAD', 'Top 1-0.5% income share-tax units', 'Top 1-0.5% income share-adults', 'Top 0.5-0.1% income share', 'Top 0.5-0.1% income share-LAD', 'Top 0.5-0.1% income share-tax units', 'Top 0.5-0.1% income share-adults', 'Top 0.1-0.05% income share', 'Top 0.1-0.05% income share-tax units', 'Top 0.1-0.05% income share-adults', 'Top 0.05-0.01% income share', 'Top 0.05-0.01% income share-tax units', 'Top 0.05-0.01% income share-adults', 'Top 0.1-0.01% income share', 'Top 0.1-0.01% income share-LAD', 'Top 0.1-0.01% income share-tax units', 'Top 0.1-0.01% income share-adults', 'Top 10% income share-including capital gains', 'Top 10% income share-including capital gains-LAD', 'Top 5% income share-including capital gains', 'Top 5% income share-including capital gains-LAD', 'Top 1% income share-including capital gains', 'Top 1% income share-including capital gains-LAD', 'Top 0.5% income share-including capital gains', 'Top 0.5% income share-including capital gains-LAD', 'Top 0.1% income share-including capital gains', 'Top 0.1% income share-including capital gains-LAD', 'Top 0.05% income share-including capital gains', 'Top 0.01% income share-including capital gains', 'Top 0.01% income share-including capital gains-LAD', 'Top 10-5% income share-including capital gains', 'Top 10-5% income share-including capital gains-LAD', 'Top 5-1% income share-including capital gains', 'Top 5-1% income share-including capital gains-LAD', 'Top 1-0.5% income share-including capital gains', 'Top 1-0.5% income share-including capital gains-LAD', 'Top 0.5-0.1% income share-including capital gains', 'Top 0.5-0.1% income share-including capital gains-LAD', 'Top 0.1-0.05% income share-including capital gains', 'Top 0.05-0.01% income share-including capital gains', 'Top 0.1-0.01% income share-including capital gains', 'Top 0.1-0.01% income share-including capital gains-LAD', 'Top 10% income composition-Wages, salaries and pensions', 'Top 10% income composition-Non-wage income', 'Top 10% income composition-Professional income', 'Top 10% income composition-Business income', 'Top 10% income composition-Dividends', 'Top 10% income composition-Interest Income', 'Top 10% income composition-Investment income', 'Top 10% income composition-Farming income', 'Top 10% income composition-Business income (industry, commerce)', 'Top 10% income composition-Capital income', 'Top 10% income composition-Non-commercial business income', 'Top 10% income composition-Rents', 'Top 10% income composition-Self-employment income', 'Top 10% income composition-Entrepreneurial income', 'Top 10% income composition-Property income', 'Top 10% income composition-Other', 'Top 10% income composition-Capital gains', 'Top 5% income composition-Wages, salaries and pensions', 'Top 5% income composition-Non-wage income', 'Top 5% income composition-Professional income', 'Top 5% income composition-Business income', 'Top 5% income composition-Dividends', 'Top 5% income composition-Interest Income', 'Top 5% income composition-Investment income', 'Top 5% income composition-Farming income', 'Top 5% income composition-Business income (industry, commerce)', 'Top 5% income composition-Capital income', 'Top 5% income composition-Non-commercial business income', 'Top 5% income composition-Rents', 'Top 5% income composition-Self-employment income', 'Top 5% income composition-Entrepreneurial income', 'Top 5% income composition-Property income', 'Top 5% income composition-Other', 'Top 5% income composition-Capital gains', 'Top 1% income composition-Wages, salaries and pensions', 'Top 1% income composition-Non-wage income', 'Top 1% income composition-Professional income', 'Top 1% income composition-Business income', 'Top 1% income composition-Dividends', 'Top 1% income composition-Interest Income', 'Top 1% income composition-Investment income', 'Top 1% income composition-Farming income', 'Top 1% income composition-Business income (industry, commerce)', 'Top 1% income composition-Capital income', 'Top 1% income composition-Non-commercial business income', 'Top 1% income composition-Rents', 'Top 1% income composition-Self-employment income', 'Top 1% income composition-Entrepreneurial income', 'Top 1% income composition-Property income', 'Top 1% income composition-Other', 'Top 1% income composition-Capital gains', 'Top 0.5% income composition-Wages, salaries and pensions', 'Top 0.5% income composition-Non-wage income', 'Top 0.5% income composition-Professional income', 'Top 0.5% income composition-Business income', 'Top 0.5% income composition-Dividends', 'Top 0.5% income composition-Interest Income', 'Top 0.5% income composition-Investment income', 'Top 0.5% income composition-Farming income', 'Top 0.5% income composition-Business income (industry, commerce)', 'Top 0.5% income composition-Capital income', 'Top 0.5% income composition-Non-commercial business income', 'Top 0.5% income composition-Rents', 'Top 0.5% income composition-Self-employment income', 'Top 0.5% income composition-Entrepreneurial income', 'Top 0.5% income composition-Property income', 'Top 0.5% income composition-Other', 'Top 0.5% income composition-Capital gains', 'Top 0.1% income composition-Wages, salaries and pensions', 'Top 0.1% income composition-Non-wage income', 'Top 0.1% income composition-Professional income', 'Top 0.1% income composition-Business income', 'Top 0.1% income composition-Dividends', 'Top 0.1% income composition-Interest Income', 'Top 0.1% income composition-Investment income', 'Top 0.1% income composition-Farming income', 'Top 0.1% income composition-Business income (industry, commerce)', 'Top 0.1% income composition-Capital income', 'Top 0.1% income composition-Non-commercial business income', 'Top 0.1% income composition-Rents', 'Top 0.1% income composition-Self-employment income', 'Top 0.1% income composition-Entrepreneurial income', 'Top 0.1% income composition-Property income', 'Top 0.1% income composition-Other', 'Top 0.1% income composition-Capital gains', 'Top 0.01% income composition-Wages, salaries and pensions', 'Top 0.01% income composition-Non-wage income', 'Top 0.01% income composition-Professional income', 'Top 0.01% income composition-Business income', 'Top 0.01% income composition-Dividends', 'Top 0.01% income composition-Interest Income', 'Top 0.01% income composition-Investment income', 'Top 0.01% income composition-Farming income', 'Top 0.01% income composition-Business income (industry, commerce)', 'Top 0.01% income composition-Capital income', 'Top 0.01% income composition-Non-commercial business income', 'Top 0.01% income composition-Rents', 'Top 0.01% income composition-Self-employment income', 'Top 0.01% income composition-Entrepreneurial income', 'Top 0.01% income composition-Capital gains', 'Top 10-5% income composition-Wages, salaries and pensions', 'Top 10-5% income composition-Professional income', 'Top 10-5% income composition-Business income', 'Top 10-5% income composition-Dividends', 'Top 10-5% income composition-Interest Income', 'Top 10-5% income composition-Investment income', 'Top 10-5% income composition-Farming income', 'Top 10-5% income composition-Business income (industry, commerce)', 'Top 10-5% income composition-Capital income', 'Top 10-5% income composition-Non-commercial business income', 'Top 10-5% income composition-Rents', 'Top 10-5% income composition-Self-employment income', 'Top 10-5% income composition-Entrepreneurial income', 'Top 10-5% income composition-Capital gains', 'Top 5-1% income composition-Wages, salaries and pensions', 'Top 5-1% income composition-Professional income', 'Top 5-1% income composition-Business income', 'Top 5-1% income composition-Dividends', 'Top 5-1% income composition-Interest Income', 'Top 5-1% income composition-Investment income', 'Top 5-1% income composition-Farming income', 'Top 5-1% income composition-Business income (industry, commerce)', 'Top 5-1% income composition-Capital income', 'Top 5-1% income composition-Non-commercial business income', 'Top 5-1% income composition-Rents', 'Top 5-1% income composition-Self-employment income', 'Top 5-1% income composition-Entrepreneurial income', 'Top 5-1% income composition-Capital gains', 'Top 1-0.5% income composition-Wages, salaries and pensions', 'Top 1-0.5% income composition-Professional income', 'Top 1-0.5% income composition-Business income', 'Top 1-0.5% income composition-Dividends', 'Top 1-0.5% income composition-Interest Income', 'Top 1-0.5% income composition-Investment income', 'Top 1-0.5% income composition-Farming income', 'Top 1-0.5% income composition-Business income (industry, commerce)', 'Top 1-0.5% income composition-Capital income', 'Top 1-0.5% income composition-Non-commercial business income', 'Top 1-0.5% income composition-Rents', 'Top 1-0.5% income composition-Self-employment income', 'Top 1-0.5% income composition-Entrepreneurial income', 'Top 1-0.5% income composition-Capital gains', 'Top 0.5-0.1% income composition-Wages, salaries and pensions', 'Top 0.5-0.1% income composition-Professional income', 'Top 0.5-0.1% income composition-Business income', 'Top 0.5-0.1% income composition-Dividends', 'Top 0.5-0.1% income composition-Interest Income', 'Top 0.5-0.1% income composition-Investment income', 'Top 0.5-0.1% income composition-Farming income', 'Top 0.5-0.1% income composition-Business income (industry, commerce)', 'Top 0.5-0.1% income composition-Capital income', 'Top 0.5-0.1% income composition-Non-commercial business income', 'Top 0.5-0.1% income composition-Rents', 'Top 0.5-0.1% income composition-Self-employment income', 'Top 0.5-0.1% income composition-Entrepreneurial income', 'Top 0.5-0.1% income composition-Capital gains', 'Top 0.1-0.01% income composition-Wages, salaries and pensions', 'Top 0.1-0.01% income composition-Professional income', 'Top 0.1-0.01% income composition-Business income', 'Top 0.1-0.01% income composition-Dividends', 'Top 0.1-0.01% income composition-Interest Income', 'Top 0.1-0.01% income composition-Investment income', 'Top 0.1-0.01% income composition-Farming income', 'Top 0.1-0.01% income composition-Business income (industry, commerce)', 'Top 0.1-0.01% income composition-Capital income', 'Top 0.1-0.01% income composition-Non-commercial business income', 'Top 0.1-0.01% income composition-Rents', 'Top 0.1-0.01% income composition-Self-employment income', 'Top 0.1-0.01% income composition-Entrepreneurial income', 'Top 0.1-0.01% income composition-Capital gains', 'Top 10% capital gains (a)', 'Top 5% capital gains (a)', 'Top 1% capital gains (a)', 'Top 0.5% capital gains (a)', 'Top 0.1% capital gains (a)', 'Top 0.01% capital gains (a)', 'Top 10-5% capital gains (a)', 'Top 5-1% capital gains (a)', 'Top 1-0.5% capital gains (a)', 'Top 0.5-0.1% capital gains (a)', 'Top 0.1-0.01% capital gains (a)', 'Top 10% capital gains (b)', 'Top 5% capital gains (b)', 'Top 1% capital gains (b)', 'Top 0.5% capital gains (b)', 'Top 0.1% capital gains (b)', 'Top 0.01% capital gains (b)', 'Top 10-5% capital gains (b)', 'Top 5-1% capital gains (b)', 'Top 1-0.5% capital gains (b)', 'Top 0.5-0.1% capital gains (b)', 'Top 0.1-0.01% capital gains (b)', 'Number of adults', 'Number of tax units', 'Number of tax units-married couples & single adults', 'Number of tax units-adults', 'Number of tax returns', 'Income control', 'Income control-including capital gains', 'Price index', 'Average income per tax unit', 'Average income per tax unit-married couples & single adults', 'Average income per tax unit-adults', 'Average income per tax unit-including capital gains', 'Average income per adult', 'Top 10% average income', 'Top 10% average income-tax units', 'Top 10% average income-adults', 'Top 5% average income', 'Top 5% average income-tax units', 'Top 5% average income-adults', 'Top 1% average income', 'Top 1% average income-tax units', 'Top 1% average income-adults', 'Top 0.5% average income', 'Top 0.5% average income-tax units', 'Top 0.5% average income-adults', 'Top 0.1% average income', 'Top 0.1% average income-tax units', 'Top 0.1% average income-adults', 'Top 0.01% average income', 'Top 0.01% average income-tax units', 'Top 0.01% average income-adults', 'Bottom 90% average income', 'Bottom 90% average income-tax units', 'Bottom 90% average income-adults', 'Top 0.25% average income', 'Top 0.15% average income', 'Top 0.05% average income', 'Top 10-5% average income', 'Top 10-5% average income-tax units', 'Top 10-5% average income-adults', 'Top 5-1% average income', 'Top 5-1% average income-tax units', 'Top 5-1% average income-adults', 'Top 1-0.5% average income', 'Top 1-0.5% average income-tax units', 'Top 1-0.5% average income-adults', 'Top 0.5-0.1% average income', 'Top 0.5-0.1% average income-tax units', 'Top 0.5-0.1% average income-adults', 'Top 0.1-0.01% average income', 'Top 0.1-0.01% average income-tax units', 'Top 0.1-0.01% average income-adults', 'Top 0.1-0.05% average income', 'Top 0.05-0.01% average income', 'P90 income threshold', 'P95 income threshold', 'P99 income threshold', 'P99.5 income threshold', 'P99.9 income threshold', 'P99.99 income threshold', 'Top 10% average income-including capital gains', 'Top 5% average income-including capital gains', 'Top 1% average income-including capital gains', 'Top 0.5% average income-including capital gains', 'Top 0.1% average income-including capital gains', 'Top 0.01% average income-including capital gains', 'Bottom 90% average income-including capital gains', 'Top 10-5% average income-including capital gains', 'Top 5-1% average income-including capital gains', 'Top 1-0.5% average income-including capital gains', 'Top 0.5-0.1% average income-including capital gains', 'Top 0.1-0.01% average income-including capital gains', 'P90 income threshold-including capital gains', 'P95 income threshold-including capital gains', 'P99 income threshold-including capital gains', 'P99.5 income threshold-including capital gains', 'P99.9 income threshold-including capital gains', 'P99.99 income threshold-including capital gains', 'Pareto-Lorenz coefficient', 'Inverted Pareto-Lorenz coefficient']\n"
       ]
      },
      {
       "metadata": {},
       "output_type": "pyout",
       "prompt_number": 3,
       "text": [
        "354"
       ]
      }
     ],
     "prompt_number": 3
    },
    {
     "cell_type": "code",
     "collapsed": false,
     "input": [
      "def dataset(path):\n",
      "    with open(path, 'r') as csvfile:\n",
      "        reader = csv.DictReader(csvfile)\n",
      "        for row in reader:\n",
      "            yield row"
     ],
     "language": "python",
     "metadata": {},
     "outputs": [],
     "prompt_number": 4
    },
    {
     "cell_type": "code",
     "collapsed": false,
     "input": [
      "# taking a look at the data set\n",
      "print set([row[\"Country\"] for row in dataset(data_file)])"
     ],
     "language": "python",
     "metadata": {},
     "outputs": [
      {
       "output_type": "stream",
       "stream": "stdout",
       "text": [
        "set(['Canada', 'Italy', 'France', 'Netherlands', 'Ireland', 'Argentina', 'Norway', 'Australia', 'Singapore', 'China', 'Germany', 'Spain', 'Finland', 'Denmark', 'Tanzania', 'Indonesia', 'Mauritius', 'Sweden', 'Switzerland', 'New Zealand', 'United States', 'Portugal', 'South Africa', 'India', 'United Kingdom', 'Japan'])\n"
       ]
      }
     ],
     "prompt_number": 5
    },
    {
     "cell_type": "code",
     "collapsed": false,
     "input": [
      "# looking at the range of years\n",
      "print min(set([int(row[\"Year\"]) for row in dataset(data_file)]))\n",
      "print max(set([int(row[\"Year\"]) for row in dataset(data_file)]))"
     ],
     "language": "python",
     "metadata": {},
     "outputs": [
      {
       "output_type": "stream",
       "stream": "stdout",
       "text": [
        "1875\n",
        "2010"
       ]
      },
      {
       "output_type": "stream",
       "stream": "stdout",
       "text": [
        "\n"
       ]
      }
     ],
     "prompt_number": 6
    },
    {
     "cell_type": "code",
     "collapsed": false,
     "input": [
      "# look at total US only obs\n",
      "#filter(lambda row: row[\"Country\"] == \"United States\", dataset(data_file))\n",
      "import csv\n",
      "import numpy as np\n",
      "import matplotlib.pyplot as plt\n",
      "\n",
      "def dataset(path, filter_field=None, filter_value=None):\n",
      "    with open(path, 'r') as csvfile:\n",
      "        reader = csv.DictReader(csvfile)\n",
      "        if filter_field:\n",
      "            for row in filter(lambda row: \n",
      "                row[filter_field]==filter_value, reader):\n",
      "                    yield row\n",
      "        else:\n",
      "            for row in reader:\n",
      "                yield row\n",
      "                \n",
      "                \n",
      "def main(path):\n",
      "    data = [(row[\"Year\"], float(row[\"Average income per tax unit\"]))\n",
      "        for row in dataset(path, \"Country\", \"United States\")]\n",
      "    width = 0.35\n",
      "    ind = np.arange(len(data))\n",
      "    fig = plt.figure()\n",
      "    ax = plt.subplot(111)\n",
      "    ax.bar(ind, list(d[1] for d in data))\n",
      "    ax.set_xticks(np.arange(0, len(data), 4))\n",
      "    ax.set_xticklabels(list(d[0] for d in data)[0::4], \n",
      "    rotation=45)\n",
      "    ax.set_ylabel(\"Income in USD\")\n",
      "    plt.title(\"U.S. Average Income 1913-2008\")\n",
      "    plt.show()                \n",
      "\n",
      "                \n",
      "if __name__ == \"__main__\":\n",
      "    main(\"C:\\Users\\Home\\Documents\\Python_Code\\income_dist.csv\")\n",
      "    "
     ],
     "language": "python",
     "metadata": {},
     "outputs": [],
     "prompt_number": 20
    },
    {
     "cell_type": "code",
     "collapsed": false,
     "input": [
      "import numpy as np\n",
      "#data_file = \"C:\\Users\\Home\\Documents\\Python_Code\\income_dist.csv\"\n",
      "dataset = np.recfromcsv(data_file, skip_header=1)\n",
      "dataset"
     ],
     "language": "python",
     "metadata": {},
     "outputs": [
      {
       "metadata": {},
       "output_type": "pyout",
       "prompt_number": 13,
       "text": [
        "rec.array([ ('Argentina', 1933, nan, nan, nan, nan, nan, nan, nan, nan, 17.18, nan, nan, nan, 13.35, nan, nan, nan, 6.8, nan, nan, nan, nan, nan, nan, 2.39, nan, nan, False, nan, nan, nan, nan, nan, nan, nan, nan, nan, nan, 3.83, nan, nan, nan, 6.55, nan, nan, nan, nan, nan, nan, nan, nan, False, 4.41, nan, nan, False, nan, nan, nan, nan, nan, nan, nan, nan, nan, nan, nan, nan, nan, nan, nan, nan, nan, nan, nan, nan, nan, nan, nan, nan, nan, nan, nan, nan, nan, nan, nan, nan, nan, nan, nan, nan, nan, nan, nan, nan, nan, nan, nan, nan, nan, nan, nan, nan, nan, nan, nan, nan, nan, nan, nan, nan, nan, nan, nan, nan, nan, nan, nan, nan, nan, nan, nan, nan, nan, nan, nan, nan, nan, nan, nan, nan, nan, nan, nan, nan, nan, nan, nan, nan, nan, nan, nan, nan, nan, nan, nan, nan, nan, nan, nan, nan, nan, nan, nan, nan, nan, nan, nan, nan, nan, nan, nan, nan, nan, nan, nan, nan, nan, nan, nan, nan, nan, nan, nan, nan, nan, nan, nan, nan, nan, nan, nan, nan, nan, nan, nan, nan, nan, nan, nan, nan, nan, nan, nan, nan, nan, nan, nan, nan, nan, nan, nan, nan, nan, nan, nan, nan, nan, nan, nan, nan, nan, nan, nan, nan, nan, nan, nan, nan, nan, nan, nan, nan, nan, nan, nan, nan, nan, nan, nan, nan, nan, nan, nan, nan, nan, nan, nan, nan, nan, nan, nan, nan, nan, nan, nan, nan, nan, nan, nan, nan, nan, nan, nan, nan, nan, nan, nan, nan, nan, nan, nan, nan, nan, nan, nan, nan, nan, nan, nan, nan, nan, 6538.0, 6538.0, nan, -1, nan, 4.52638e-10, nan, 1.10938e-14, 6240.6, nan, nan, nan, 6240.6, nan, nan, nan, nan, nan, nan, 107213.46, nan, nan, 166623.94, nan, nan, 424360.6, nan, nan, 1491502.7, nan, False, nan, nan, nan, nan, nan, nan, nan, nan, nan, nan, nan, nan, 47802.97, nan, nan, 102189.78, nan, nan, 305789.26, nan, False, nan, nan, nan, nan, nan, nan, nan, nan, nan, nan, nan, nan, nan, nan, nan, nan, nan, nan, nan, nan, nan, nan, nan, nan, nan, nan, 1.674, 2.484),\n",
        "       ('Argentina', 1934, nan, nan, nan, nan, nan, nan, nan, nan, 18.06, nan, nan, nan, 14.02, nan, nan, nan, 7.28, nan, nan, nan, nan, nan, nan, 2.45, nan, nan, False, nan, nan, nan, nan, nan, nan, nan, nan, nan, nan, 4.04, nan, nan, nan, 6.74, nan, nan, nan, nan, nan, nan, nan, nan, False, 4.83, nan, nan, False, nan, nan, nan, nan, nan, nan, nan, nan, nan, nan, nan, nan, nan, nan, nan, nan, nan, nan, nan, nan, nan, nan, nan, nan, nan, nan, nan, nan, nan, nan, nan, nan, nan, nan, nan, nan, nan, nan, nan, nan, nan, nan, nan, nan, nan, nan, nan, nan, nan, nan, nan, nan, nan, nan, nan, nan, nan, nan, nan, nan, nan, nan, nan, nan, nan, nan, nan, nan, nan, nan, nan, nan, nan, nan, nan, nan, nan, nan, nan, nan, nan, nan, nan, nan, nan, nan, nan, nan, nan, nan, nan, nan, nan, nan, nan, nan, nan, nan, nan, nan, nan, nan, nan, nan, nan, nan, nan, nan, nan, nan, nan, nan, nan, nan, nan, nan, nan, nan, nan, nan, nan, nan, nan, nan, nan, nan, nan, nan, nan, nan, nan, nan, nan, nan, nan, nan, nan, nan, nan, nan, nan, nan, nan, nan, nan, nan, nan, nan, nan, nan, nan, nan, nan, nan, nan, nan, nan, nan, nan, nan, nan, nan, nan, nan, nan, nan, nan, nan, nan, nan, nan, nan, nan, nan, nan, nan, nan, nan, nan, nan, nan, nan, nan, nan, nan, nan, nan, nan, nan, nan, nan, nan, nan, nan, nan, nan, nan, nan, nan, nan, nan, nan, nan, nan, nan, nan, nan, nan, nan, nan, nan, nan, nan, nan, nan, nan, nan, 6708.0, 6708.0, nan, -1, nan, 4.30173e-10, nan, 1.02557e-14, 6252.95, nan, nan, nan, 6252.95, nan, nan, nan, nan, nan, nan, 112928.33, nan, nan, 175332.8, nan, nan, 455214.97, nan, nan, 1531973.45, nan, False, nan, nan, nan, nan, nan, nan, nan, nan, nan, nan, nan, nan, 50523.86, nan, nan, 105362.26, nan, nan, 335575.14, nan, False, nan, nan, nan, nan, nan, nan, nan, nan, nan, nan, nan, nan, nan, nan, nan, nan, nan, nan, nan, nan, nan, nan, nan, nan, nan, nan, 1.652, 2.534),\n",
        "       ('Argentina', 1935, nan, nan, nan, nan, nan, nan, nan, nan, 18.44, nan, nan, nan, 14.32, nan, nan, nan, 7.41, nan, nan, nan, nan, nan, nan, 2.49, nan, nan, False, nan, nan, nan, nan, nan, nan, nan, nan, nan, nan, 4.12, nan, nan, nan, 6.91, nan, nan, nan, nan, nan, nan, nan, nan, False, 4.92, nan, nan, False, nan, nan, nan, nan, nan, nan, nan, nan, nan, nan, nan, nan, nan, nan, nan, nan, nan, nan, nan, nan, nan, nan, nan, nan, nan, nan, nan, nan, nan, nan, nan, nan, nan, nan, nan, nan, nan, nan, nan, nan, nan, nan, nan, nan, nan, nan, nan, nan, nan, nan, nan, nan, nan, nan, nan, nan, nan, nan, nan, nan, nan, nan, nan, nan, nan, nan, nan, nan, nan, nan, nan, nan, nan, nan, nan, nan, nan, nan, nan, nan, nan, nan, nan, nan, nan, nan, nan, nan, nan, nan, nan, nan, nan, nan, nan, nan, nan, nan, nan, nan, nan, nan, nan, nan, nan, nan, nan, nan, nan, nan, nan, nan, nan, nan, nan, nan, nan, nan, nan, nan, nan, nan, nan, nan, nan, nan, nan, nan, nan, nan, nan, nan, nan, nan, nan, nan, nan, nan, nan, nan, nan, nan, nan, nan, nan, nan, nan, nan, nan, nan, nan, nan, nan, nan, nan, nan, nan, nan, nan, nan, nan, nan, nan, nan, nan, nan, nan, nan, nan, nan, nan, nan, nan, nan, nan, nan, nan, nan, nan, nan, nan, nan, nan, nan, nan, nan, nan, nan, nan, nan, nan, nan, nan, nan, nan, nan, nan, nan, nan, nan, nan, nan, nan, nan, nan, nan, nan, nan, nan, nan, nan, nan, nan, nan, nan, nan, nan, 6883.0, 6883.0, nan, -1, nan, 4.84074e-10, nan, 1.08683e-14, 6471.02, nan, nan, nan, 6471.02, nan, nan, nan, nan, nan, nan, 119325.63, nan, nan, 185330.04, nan, nan, 479502.65, nan, nan, 1611284.22, nan, False, nan, nan, nan, nan, nan, nan, nan, nan, nan, nan, nan, nan, 53321.21, nan, nan, 111786.89, nan, nan, 353749.15, nan, False, nan, nan, nan, nan, nan, nan, nan, nan, nan, nan, nan, nan, nan, nan, nan, nan, nan, nan, nan, nan, nan, nan, nan, nan, nan, nan, 1.655, 2.526),\n",
        "       ...,\n",
        "       ('United States', 2006, 45.26, nan, nan, nan, 33.32, nan, nan, nan, 17.98, nan, nan, nan, 14.07, nan, nan, nan, 7.97, nan, nan, nan, nan, nan, nan, 3.35, nan, nan, False, nan, nan, 11.94, nan, nan, nan, 15.34, nan, nan, nan, 3.91, nan, nan, nan, 6.1, nan, nan, nan, nan, nan, nan, nan, nan, False, 4.62, nan, nan, False, 49.32, nan, 38.08, nan, 22.82, nan, 18.62, nan, 11.59, nan, nan, 5.46, nan, 11.24, nan, 15.26, nan, 4.21, nan, 7.03, nan, nan, nan, 6.13, nan, 72.22, nan, nan, nan, 4.5, 4.13, nan, nan, nan, nan, nan, 1.49, nan, 17.66, nan, nan, nan, 66.47, nan, nan, nan, 5.33, 4.8, nan, nan, nan, nan, nan, 1.8, nan, 21.6, nan, nan, nan, 53.48, nan, nan, nan, 7.38, 6.66, nan, nan, nan, nan, nan, 2.4, nan, 30.08, nan, nan, nan, 48.37, nan, nan, nan, 8.33, 7.61, nan, nan, nan, nan, nan, 2.57, nan, 33.11, nan, nan, nan, 41.47, nan, nan, nan, 10.44, 9.88, nan, nan, nan, nan, nan, 2.68, nan, 35.53, nan, nan, nan, 35.54, nan, nan, nan, 14.08, 13.66, nan, nan, nan, nan, nan, 2.66, nan, 34.06, nan, 88.18, nan, nan, 2.18, 2.26, nan, nan, nan, nan, nan, 0.64, nan, 6.75, nan, 80.92, nan, nan, 3.06, 2.74, nan, nan, nan, nan, nan, 1.13, nan, 12.15, nan, 70.17, nan, nan, 4.27, 3.55, nan, nan, nan, nan, nan, 1.84, nan, 20.18, nan, 56.47, nan, nan, 5.86, 4.95, nan, nan, nan, nan, nan, 2.45, nan, 30.28, nan, 45.17, nan, nan, 8.16, 7.52, nan, nan, nan, nan, nan, 2.69, nan, 36.45, nan, 11.54, 13.92, 18.76, 20.12, 20.74, 19.32, 4.13, 7.47, 13.46, 19.28, 21.75, 17.77, 21.86, 31.36, 35.44, 43.67, 53.73, 3.91, 7.65, 13.31, 21.87, 34.71, nan, 148361.0, nan, -1, 138395.0, 7306449.31952, 8077495.31952, 0.936458, 52589.41, nan, nan, 58139.15, nan, 238030.19, nan, nan, 350434.8, nan, nan, 945557.62, nan, nan, 1480076.4, nan, nan, 4189798.42, nan, nan, 17638488.65, nan, False, 31984.88, nan, nan, nan, nan, nan, 125625.59, nan, nan, 201654.1, nan, nan, 411038.84, nan, nan, 802645.89, nan, nan, 2695499.51, nan, False, nan, nan, 107158.03, 147635.02, 351398.56, 514843.15, 1496740.88, 6912974.07, 286742.27, 442822.62, 1326909.74, 2164520.42, 6737164.28, 31743973.89, 32738.8, 130661.92, 221800.84, 489299.06, 1021359.45, 3958629.87, 111447.6, 157870.4, 401916.58, 632896.5, 2039463.56, 11193633.67, 1.546, 2.83),\n",
        "       ('United States', 2007, 45.51, nan, nan, nan, 33.64, nan, nan, nan, 18.29, nan, nan, nan, 14.39, nan, nan, nan, 8.23, nan, nan, nan, nan, nan, nan, 3.62, nan, nan, False, nan, nan, 11.87, nan, nan, nan, 15.35, nan, nan, nan, 3.9, nan, nan, nan, 6.15, nan, nan, nan, nan, nan, nan, nan, nan, False, 4.61, nan, nan, False, 49.74, nan, 38.67, nan, 23.5, nan, 19.31, nan, 12.28, nan, nan, 6.04, nan, 11.07, nan, 15.16, nan, 4.19, nan, 7.04, nan, nan, nan, 6.24, nan, 72.25, nan, nan, nan, 5.09, 4.69, nan, nan, nan, nan, nan, 1.44, nan, 16.54, nan, nan, nan, 66.43, nan, nan, nan, 6.06, 5.46, nan, nan, nan, nan, nan, 1.76, nan, 20.29, nan, nan, nan, 54.28, nan, nan, nan, 8.35, 7.46, nan, nan, nan, nan, nan, 2.26, nan, 27.65, nan, nan, nan, 49.83, nan, nan, nan, 9.38, 8.46, nan, nan, nan, nan, nan, 2.4, nan, 29.93, nan, nan, nan, 43.8, nan, nan, nan, 11.8, 11.0, nan, nan, nan, nan, nan, 2.53, nan, 30.86, nan, nan, nan, 38.05, nan, nan, nan, 15.56, 15.23, nan, nan, nan, nan, nan, 2.49, nan, 28.66, nan, 88.63, nan, nan, 2.35, 2.49, nan, nan, nan, nan, nan, 0.55, nan, 5.98, nan, 80.11, nan, nan, 3.47, 3.22, nan, nan, nan, nan, nan, 1.19, nan, 12.01, nan, 69.05, nan, nan, 4.93, 4.14, nan, nan, nan, nan, nan, 1.8, nan, 20.08, nan, 56.96, nan, nan, 6.52, 5.45, nan, nan, nan, nan, nan, 2.24, nan, 28.83, nan, 47.62, nan, nan, 9.31, 8.2, nan, nan, nan, nan, nan, 2.55, nan, 32.32, nan, 11.89, 14.34, 19.29, 20.63, 21.52, 19.95, 4.11, 7.59, 13.93, 19.41, 22.7, 18.91, 23.21, 33.17, 37.36, 46.14, 55.92, 3.89, 7.77, 13.85, 22.05, 36.68, nan, 149875.0, nan, -1, 142979.0, 7805494.79226, 8701168.79226, 0.9630242, 54079.67, nan, nan, 60285.27, nan, 246094.95, nan, nan, 363804.76, nan, nan, 988954.94, nan, nan, 1556088.45, nan, nan, 4452379.31, nan, nan, 19593064.77, nan, False, 32744.64, nan, nan, nan, nan, nan, 128385.14, nan, nan, 207517.22, nan, nan, 421821.43, nan, nan, 832015.74, nan, nan, 2770080.92, nan, False, nan, nan, 109480.11, 150782.3, 360908.89, 531825.68, 1543643.45, 7150165.05, 299858.92, 466222.15, 1416884.65, 2328699.33, 7400016.64, 36388187.71, 33665.97, 133495.7, 228556.52, 505069.97, 1060870.0, 4179108.74, 113839.3, 161328.24, 414225.31, 656366.68, 2131874.77, 11917297.57, 1.53, 2.885),\n",
        "       ('United States', 2008, 45.6, nan, nan, nan, 33.36, nan, nan, nan, 17.67, nan, nan, nan, 13.75, nan, nan, nan, 7.77, nan, nan, nan, nan, nan, nan, 3.34, nan, nan, False, nan, nan, 12.23, nan, nan, nan, 15.7, nan, nan, nan, 3.91, nan, nan, nan, 5.98, nan, nan, nan, nan, nan, nan, nan, nan, False, 4.43, nan, nan, False, 48.23, nan, 36.52, nan, 20.95, nan, 16.87, nan, 10.4, nan, nan, 5.03, nan, 11.71, nan, 15.57, nan, 4.08, nan, 6.47, nan, nan, nan, 5.37, nan, 74.1, nan, nan, nan, 4.39, 3.54, nan, nan, nan, nan, nan, 1.76, nan, 16.2, nan, nan, nan, 68.45, nan, nan, nan, 5.28, 4.1, nan, nan, nan, nan, nan, 2.13, nan, 20.04, nan, nan, nan, 55.71, nan, nan, nan, 7.52, 5.56, nan, nan, nan, nan, nan, 2.89, nan, 28.33, nan, nan, nan, 50.2, nan, nan, nan, 8.66, 6.29, nan, nan, nan, nan, nan, 3.17, nan, 31.69, nan, nan, nan, 42.99, nan, nan, nan, 11.23, 7.89, nan, nan, nan, nan, nan, 3.38, nan, 34.51, nan, nan, nan, 35.97, nan, nan, nan, 15.19, 10.46, nan, nan, nan, nan, nan, 3.36, nan, 35.03, nan, 89.65, nan, nan, 1.96, 2.0, nan, nan, nan, nan, nan, 0.73, nan, 5.66, nan, 82.34, nan, nan, 2.83, 2.52, nan, nan, nan, nan, nan, 1.32, nan, 11.0, nan, 73.55, nan, nan, 3.83, 3.18, nan, nan, nan, nan, nan, 1.99, nan, 17.45, nan, 58.75, nan, nan, 5.6, 4.4, nan, nan, nan, nan, nan, 2.92, nan, 28.34, nan, 47.73, nan, nan, 8.57, 6.15, nan, nan, nan, nan, nan, 3.4, nan, 34.16, nan, 6.76, 8.56, 12.76, 14.41, 16.34, 16.63, 1.5, 3.32, 6.41, 11.78, 16.12, 10.86, 13.9, 21.82, 25.68, 34.05, 44.76, 1.38, 3.25, 5.86, 12.22, 24.0, nan, 152462.0, nan, -1, 142451.0, 7814406.93469, 8280985.93469, 1.0, 51254.78, nan, nan, 54315.08, nan, 233716.69, nan, nan, 342023.18, nan, nan, 905569.53, nan, nan, 1409916.61, nan, nan, 3982496.75, nan, nan, 17103721.54, nan, False, 30981.24, nan, nan, nan, nan, nan, 125410.21, nan, nan, 201136.59, nan, nan, 401222.45, nan, nan, 766771.57, nan, nan, 2524582.88, nan, False, nan, nan, 107540.0, 147909.0, 341810.0, 497162.0, 1401549.0, 6414011.0, 261950.77, 396717.35, 1137683.69, 1832264.95, 5648768.46, 27342211.96, 31244.45, 127184.19, 211475.77, 443102.43, 878139.08, 3238385.85, 109062.0, 152726.0, 368238.0, 558726.0, 1695136.0, 9141190.0, 1.555, 2.803)], \n",
        "      dtype=[('argentina', 'S14'), ('1932', '<i4'), ('f0', '<f8'), ('f1', '<f8'), ('f2', '<f8'), ('f3', '<f8'), ('f4', '<f8'), ('f5', '<f8'), ('f6', '<f8'), ('f7', '<f8'), ('1877', '<f8'), ('f8', '<f8'), ('f9', '<f8'), ('f10', '<f8'), ('1458', '<f8'), ('f11', '<f8'), ('f12', '<f8'), ('f13', '<f8'), ('752', '<f8'), ('f14', '<f8'), ('f15', '<f8'), ('f16', '<f8'), ('f17', '<f8'), ('f18', '<f8'), ('f19', '<f8'), ('249', '<f8'), ('f20', '<f8'), ('f21', '<f8'), ('f22', '?'), ('f23', '<f8'), ('f24', '<f8'), ('f25', '<f8'), ('f26', '<f8'), ('f27', '<f8'), ('f28', '<f8'), ('f29', '<f8'), ('f30', '<f8'), ('f31', '<f8'), ('f32', '<f8'), ('419', '<f8'), ('f33', '<f8'), ('f34', '<f8'), ('f35', '<f8'), ('706', '<f8'), ('f36', '<f8'), ('f37', '<f8'), ('f38', '<f8'), ('f39', '<f8'), ('f40', '<f8'), ('f41', '<f8'), ('f42', '<f8'), ('f43', '<f8'), ('f44', '?'), ('503', '<f8'), ('f45', '<f8'), ('f46', '<f8'), ('f47', '?'), ('f48', '<f8'), ('f49', '<f8'), ('f50', '<f8'), ('f51', '<f8'), ('f52', '<f8'), ('f53', '<f8'), ('f54', '<f8'), ('f55', '<f8'), ('f56', '<f8'), ('f57', '<f8'), ('f58', '<f8'), ('f59', '<f8'), ('f60', '<f8'), ('f61', '<f8'), ('f62', '<f8'), ('f63', '<f8'), ('f64', '<f8'), ('f65', '<f8'), ('f66', '<f8'), ('f67', '<f8'), ('f68', '<f8'), ('f69', '<f8'), ('f70', '<f8'), ('f71', '<f8'), ('f72', '<f8'), ('f73', '<f8'), ('f74', '<f8'), ('f75', '<f8'), ('f76', '<f8'), ('f77', '<f8'), ('f78', '<f8'), ('f79', '<f8'), ('f80', '<f8'), ('f81', '<f8'), ('f82', '<f8'), ('f83', '<f8'), ('f84', '<f8'), ('f85', '<f8'), ('f86', '<f8'), ('f87', '<f8'), ('f88', '<f8'), ('f89', '<f8'), ('f90', '<f8'), ('f91', '<f8'), ('f92', '<f8'), ('f93', '<f8'), ('f94', '<f8'), ('f95', '<f8'), ('f96', '<f8'), ('f97', '<f8'), ('f98', '<f8'), ('f99', '<f8'), ('f100', '<f8'), ('f101', '<f8'), ('f102', '<f8'), ('f103', '<f8'), ('f104', '<f8'), ('f105', '<f8'), ('f106', '<f8'), ('f107', '<f8'), ('f108', '<f8'), ('f109', '<f8'), ('f110', '<f8'), ('f111', '<f8'), ('f112', '<f8'), ('f113', '<f8'), ('f114', '<f8'), ('f115', '<f8'), ('f116', '<f8'), ('f117', '<f8'), ('f118', '<f8'), ('f119', '<f8'), ('f120', '<f8'), ('f121', '<f8'), ('f122', '<f8'), ('f123', '<f8'), ('f124', '<f8'), ('f125', '<f8'), ('f126', '<f8'), ('f127', '<f8'), ('f128', '<f8'), ('f129', '<f8'), ('f130', '<f8'), ('f131', '<f8'), ('f132', '<f8'), ('f133', '<f8'), ('f134', '<f8'), ('f135', '<f8'), ('f136', '<f8'), ('f137', '<f8'), ('f138', '<f8'), ('f139', '<f8'), ('f140', '<f8'), ('f141', '<f8'), ('f142', '<f8'), ('f143', '<f8'), ('f144', '<f8'), ('f145', '<f8'), ('f146', '<f8'), ('f147', '<f8'), ('f148', '<f8'), ('f149', '<f8'), ('f150', '<f8'), ('f151', '<f8'), ('f152', '<f8'), ('f153', '<f8'), ('f154', '<f8'), ('f155', '<f8'), ('f156', '<f8'), ('f157', '<f8'), ('f158', '<f8'), ('f159', '<f8'), ('f160', '<f8'), ('f161', '<f8'), ('f162', '<f8'), ('f163', '<f8'), ('f164', '<f8'), ('f165', '<f8'), ('f166', '<f8'), ('f167', '<f8'), ('f168', '<f8'), ('f169', '<f8'), ('f170', '<f8'), ('f171', '<f8'), ('f172', '<f8'), ('f173', '<f8'), ('f174', '<f8'), ('f175', '<f8'), ('f176', '<f8'), ('f177', '<f8'), ('f178', '<f8'), ('f179', '<f8'), ('f180', '<f8'), ('f181', '<f8'), ('f182', '<f8'), ('f183', '<f8'), ('f184', '<f8'), ('f185', '<f8'), ('f186', '<f8'), ('f187', '<f8'), ('f188', '<f8'), ('f189', '<f8'), ('f190', '<f8'), ('f191', '<f8'), ('f192', '<f8'), ('f193', '<f8'), ('f194', '<f8'), ('f195', '<f8'), ('f196', '<f8'), ('f197', '<f8'), ('f198', '<f8'), ('f199', '<f8'), ('f200', '<f8'), ('f201', '<f8'), ('f202', '<f8'), ('f203', '<f8'), ('f204', '<f8'), ('f205', '<f8'), ('f206', '<f8'), ('f207', '<f8'), ('f208', '<f8'), ('f209', '<f8'), ('f210', '<f8'), ('f211', '<f8'), ('f212', '<f8'), ('f213', '<f8'), ('f214', '<f8'), ('f215', '<f8'), ('f216', '<f8'), ('f217', '<f8'), ('f218', '<f8'), ('f219', '<f8'), ('f220', '<f8'), ('f221', '<f8'), ('f222', '<f8'), ('f223', '<f8'), ('f224', '<f8'), ('f225', '<f8'), ('f226', '<f8'), ('f227', '<f8'), ('f228', '<f8'), ('f229', '<f8'), ('f230', '<f8'), ('f231', '<f8'), ('f232', '<f8'), ('f233', '<f8'), ('f234', '<f8'), ('f235', '<f8'), ('f236', '<f8'), ('f237', '<f8'), ('f238', '<f8'), ('f239', '<f8'), ('f240', '<f8'), ('f241', '<f8'), ('f242', '<f8'), ('f243', '<f8'), ('f244', '<f8'), ('f245', '<f8'), ('f246', '<f8'), ('f247', '<f8'), ('f248', '<f8'), ('f249', '<f8'), ('f250', '<f8'), ('f251', '<f8'), ('f252', '<f8'), ('f253', '<f8'), ('f254', '<f8'), ('f255', '<f8'), ('f256', '<f8'), ('f257', '<f8'), ('f258', '<f8'), ('f259', '<f8'), ('f260', '<f8'), ('f261', '<f8'), ('f262', '<f8'), ('f263', '<f8'), ('f264', '<f8'), ('6372', '<f8'), ('6372_1', '<f8'), ('f265', '<f8'), ('f266', '<i4'), ('f267', '<f8'), ('431396e010', '<f8'), ('f268', '<f8'), ('102557e014', '<f8'), ('660138', '<f8'), ('f269', '<f8'), ('f270', '<f8'), ('f271', '<f8'), ('660138_1', '<f8'), ('f272', '<f8'), ('f273', '<f8'), ('f274', '<f8'), ('f275', '<f8'), ('f276', '<f8'), ('f277', '<f8'), ('12390786', '<f8'), ('f278', '<f8'), ('f279', '<f8'), ('19249617', '<f8'), ('f280', '<f8'), ('f281', '<f8'), ('49642359', '<f8'), ('f282', '<f8'), ('f283', '<f8'), ('164374299', '<f8'), ('f284', '<f8'), ('f285', '?'), ('f286', '<f8'), ('f287', '<f8'), ('f288', '<f8'), ('f289', '<f8'), ('f290', '<f8'), ('f291', '<f8'), ('f292', '<f8'), ('f293', '<f8'), ('f294', '<f8'), ('f295', '<f8'), ('f296', '<f8'), ('f297', '<f8'), ('5531954', '<f8'), ('f298', '<f8'), ('f299', '<f8'), ('11651431', '<f8'), ('f300', '<f8'), ('f301', '<f8'), ('36894365', '<f8'), ('f302', '<f8'), ('f303', '?'), ('f304', '<f8'), ('f305', '<f8'), ('f306', '<f8'), ('f307', '<f8'), ('f308', '<f8'), ('f309', '<f8'), ('f310', '<f8'), ('f311', '<f8'), ('f312', '<f8'), ('f313', '<f8'), ('f314', '<f8'), ('f315', '<f8'), ('f316', '<f8'), ('f317', '<f8'), ('f318', '<f8'), ('f319', '<f8'), ('f320', '<f8'), ('f321', '<f8'), ('f322', '<f8'), ('f323', '<f8'), ('f324', '<f8'), ('f325', '<f8'), ('f326', '<f8'), ('f327', '<f8'), ('f328', '<f8'), ('f329', '<f8'), ('1659', '<f8'), ('2517', '<f8')])"
       ]
      }
     ],
     "prompt_number": 13
    },
    {
     "cell_type": "code",
     "collapsed": false,
     "input": [
      "dataset.size \n",
      "dataset.shape"
     ],
     "language": "python",
     "metadata": {},
     "outputs": [
      {
       "metadata": {},
       "output_type": "pyout",
       "prompt_number": 12,
       "text": [
        "2179"
       ]
      }
     ],
     "prompt_number": 12
    },
    {
     "cell_type": "code",
     "collapsed": false,
     "input": [
      "names = [\"country\", \"year\"]\n",
      "names.extend([\"col%i\" % (idx+1) for idx in xrange(352)])\n",
      "dtype = \"S64,i4,\" + \",\".join([\"f18\" for idx in xrange(352)])\n",
      "\n",
      "dataset = np.genfromtxt(data_file, dtype = dtype, names = names,\n",
      "       delimiter = \",\", skip_header=1, autostrip = 2)\n",
      "\n"
     ],
     "language": "python",
     "metadata": {},
     "outputs": [],
     "prompt_number": 16
    },
    {
     "cell_type": "code",
     "collapsed": false,
     "input": [
      "# clean the data from nans using numpy masked array\n",
      "import numpy.ma as ma\n",
      "ma.masked_invalid(dataset['col1'])\n",
      "masked_array(data = [-- -- -- ..., 45.2599983215332 \n",
      "45.5099983215332 45.599998474121094], \n",
      "mask = [ True True True ..., False False False],fill_value = \n",
      "1e+20)\n",
      "\n",
      "\n"
     ],
     "language": "python",
     "metadata": {},
     "outputs": [
      {
       "ename": "SyntaxError",
       "evalue": "invalid syntax (<ipython-input-18-ebf347c06e10>, line 4)",
       "output_type": "pyerr",
       "traceback": [
        "\u001b[1;36m  File \u001b[1;32m\"<ipython-input-18-ebf347c06e10>\"\u001b[1;36m, line \u001b[1;32m4\u001b[0m\n\u001b[1;33m    masked_array(data = [-- -- -- ..., 45.2599983215332\u001b[0m\n\u001b[1;37m                                  ^\u001b[0m\n\u001b[1;31mSyntaxError\u001b[0m\u001b[1;31m:\u001b[0m invalid syntax\n"
       ]
      }
     ],
     "prompt_number": 18
    },
    {
     "cell_type": "code",
     "collapsed": false,
     "input": [
      "# createing helper fucntion for extracting data and creating ts\n",
      "\n",
      "# defaults to extracting the US\n",
      "def dataset(path, country = \"United States\"):\n",
      "    with open(path, 'r') as csvfile:\n",
      "        reader = csv.DictReader(csvfile)\n",
      "        for row in filter(lambda row: row[\"Country\"]==country, reader):\n",
      "            yield row\n",
      "\n",
      "# creates year based on time series for given coulmn\n",
      "def timeseries(data, column):\n",
      "    for row in filter(lambda row: row[column], data):\n",
      "        yield (int(row[\"Year\"]), row[column])\n",
      "\n",
      "# plotting out percentiles \n",
      "# use helper fucntion for matplotlib and line chart\n",
      "def linechart(series, **kwargs):\n",
      "    fig = plt.figure()\n",
      "    ax = plt.subplot(111)\n",
      "\n",
      "    for line in series:\n",
      "        line = list(line)\n",
      "        xvals = [v[0] for v in line]\n",
      "        yvals = [v[1] for v in line]\n",
      "        ax.plot(xvals, yvals)\n",
      "    if 'ylabel' in kwargs:\n",
      "        ax.set_ylabel(kwargs['ylabel'])\n",
      "    if 'title' in kwargs:\n",
      "        plt.title(kwargs['title'])\n",
      "    if 'labels' in kwargs:\n",
      "        ax.legend(kwargs.get('labels'))\n",
      "    \n",
      "        return fig\n",
      "\n",
      "# one more plotting function\n",
      "def percent_income_share(source):\n",
      "    columns = (\n",
      "        \"Top 10% income share\",\n",
      "        \"Top 5% income share\",\n",
      "        \"Top 1% income share\",\n",
      "        \"Top 0.5% income share\",\n",
      "        \"Top 0.1% income share\",\n",
      "        )\n",
      "    source = list(dataset(source))\n",
      "    \n",
      "    return linechart([timeseries(source, col) for col in\n",
      "                      columns], \n",
      "                        labels=columns,\n",
      "                        title=\"U.S. Percentage Income Share\",\n",
      "                        ylabel=\"Percentage\")"
     ],
     "language": "python",
     "metadata": {},
     "outputs": [],
     "prompt_number": 32
    },
    {
     "cell_type": "code",
     "collapsed": false,
     "input": [
      "# generate plot\n",
      "percent_income_share(data_file)\n",
      "plt.show()"
     ],
     "language": "python",
     "metadata": {},
     "outputs": [
      {
       "ename": "AttributeError",
       "evalue": "'module' object has no attribute 'figure'",
       "output_type": "pyerr",
       "traceback": [
        "\u001b[1;31m---------------------------------------------------------------------------\u001b[0m\n\u001b[1;31mAttributeError\u001b[0m                            Traceback (most recent call last)",
        "\u001b[1;32m<ipython-input-35-5e625c789be5>\u001b[0m in \u001b[0;36m<module>\u001b[1;34m()\u001b[0m\n\u001b[0;32m      1\u001b[0m \u001b[1;31m# generate plot\u001b[0m\u001b[1;33m\u001b[0m\u001b[1;33m\u001b[0m\u001b[0m\n\u001b[1;32m----> 2\u001b[1;33m \u001b[0mpercent_income_share\u001b[0m\u001b[1;33m(\u001b[0m\u001b[0mdata_file\u001b[0m\u001b[1;33m)\u001b[0m\u001b[1;33m\u001b[0m\u001b[0m\n\u001b[0m\u001b[0;32m      3\u001b[0m \u001b[0mplt\u001b[0m\u001b[1;33m.\u001b[0m\u001b[0mshow\u001b[0m\u001b[1;33m(\u001b[0m\u001b[1;33m)\u001b[0m\u001b[1;33m\u001b[0m\u001b[0m\n",
        "\u001b[1;32m<ipython-input-32-bc7dd097ab5f>\u001b[0m in \u001b[0;36mpercent_income_share\u001b[1;34m(source)\u001b[0m\n\u001b[0;32m     48\u001b[0m                         \u001b[0mlabels\u001b[0m\u001b[1;33m=\u001b[0m\u001b[0mcolumns\u001b[0m\u001b[1;33m,\u001b[0m\u001b[1;33m\u001b[0m\u001b[0m\n\u001b[0;32m     49\u001b[0m                         \u001b[0mtitle\u001b[0m\u001b[1;33m=\u001b[0m\u001b[1;34m\"U.S. Percentage Income Share\"\u001b[0m\u001b[1;33m,\u001b[0m\u001b[1;33m\u001b[0m\u001b[0m\n\u001b[1;32m---> 50\u001b[1;33m                         ylabel=\"Percentage\")\n\u001b[0m",
        "\u001b[1;32m<ipython-input-32-bc7dd097ab5f>\u001b[0m in \u001b[0;36mlinechart\u001b[1;34m(series, **kwargs)\u001b[0m\n\u001b[0;32m     16\u001b[0m \u001b[1;31m# use helper fucntion for matplotlib and line chart\u001b[0m\u001b[1;33m\u001b[0m\u001b[1;33m\u001b[0m\u001b[0m\n\u001b[0;32m     17\u001b[0m \u001b[1;32mdef\u001b[0m \u001b[0mlinechart\u001b[0m\u001b[1;33m(\u001b[0m\u001b[0mseries\u001b[0m\u001b[1;33m,\u001b[0m \u001b[1;33m**\u001b[0m\u001b[0mkwargs\u001b[0m\u001b[1;33m)\u001b[0m\u001b[1;33m:\u001b[0m\u001b[1;33m\u001b[0m\u001b[0m\n\u001b[1;32m---> 18\u001b[1;33m     \u001b[0mfig\u001b[0m \u001b[1;33m=\u001b[0m \u001b[0mplt\u001b[0m\u001b[1;33m.\u001b[0m\u001b[0mfigure\u001b[0m\u001b[1;33m(\u001b[0m\u001b[1;33m)\u001b[0m\u001b[1;33m\u001b[0m\u001b[0m\n\u001b[0m\u001b[0;32m     19\u001b[0m     \u001b[0max\u001b[0m \u001b[1;33m=\u001b[0m \u001b[0mplt\u001b[0m\u001b[1;33m.\u001b[0m\u001b[0msubplot\u001b[0m\u001b[1;33m(\u001b[0m\u001b[1;36m111\u001b[0m\u001b[1;33m)\u001b[0m\u001b[1;33m\u001b[0m\u001b[0m\n\u001b[0;32m     20\u001b[0m \u001b[1;33m\u001b[0m\u001b[0m\n",
        "\u001b[1;31mAttributeError\u001b[0m: 'module' object has no attribute 'figure'"
       ]
      }
     ],
     "prompt_number": 35
    },
    {
     "cell_type": "code",
     "collapsed": false,
     "input": [
      "#last on page 167  - why oh why will it no work?"
     ],
     "language": "python",
     "metadata": {},
     "outputs": [
      {
       "ename": "NameError",
       "evalue": "name 'percent_income_share' is not defined",
       "output_type": "pyerr",
       "traceback": [
        "\u001b[1;31m---------------------------------------------------------------------------\u001b[0m\n\u001b[1;31mNameError\u001b[0m                                 Traceback (most recent call last)",
        "\u001b[1;32m<ipython-input-24-5e625c789be5>\u001b[0m in \u001b[0;36m<module>\u001b[1;34m()\u001b[0m\n\u001b[0;32m      1\u001b[0m \u001b[1;31m# generate plot\u001b[0m\u001b[1;33m\u001b[0m\u001b[1;33m\u001b[0m\u001b[0m\n\u001b[1;32m----> 2\u001b[1;33m \u001b[0mpercent_income_share\u001b[0m\u001b[1;33m(\u001b[0m\u001b[0mdata_file\u001b[0m\u001b[1;33m)\u001b[0m\u001b[1;33m\u001b[0m\u001b[0m\n\u001b[0m\u001b[0;32m      3\u001b[0m \u001b[0mplt\u001b[0m\u001b[1;33m.\u001b[0m\u001b[0mshow\u001b[0m\u001b[1;33m(\u001b[0m\u001b[1;33m)\u001b[0m\u001b[1;33m\u001b[0m\u001b[0m\n",
        "\u001b[1;31mNameError\u001b[0m: name 'percent_income_share' is not defined"
       ]
      }
     ],
     "prompt_number": 24
    }
   ],
   "metadata": {}
  }
 ]
}